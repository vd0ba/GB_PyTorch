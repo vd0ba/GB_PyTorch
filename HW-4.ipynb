{
 "cells": [
  {
   "cell_type": "markdown",
   "id": "104d95f4-df62-4262-b512-51af2c1d26cf",
   "metadata": {},
   "source": [
    "## Практическое задание к уроку 4 по теме \"CNN Свертки\"."
   ]
  },
  {
   "cell_type": "markdown",
   "id": "199a05b6-fa6b-4207-ad2b-69b0bd7fd3d4",
   "metadata": {},
   "source": [
    "1. Обучите CNN (самописная) на CIFAR-100.\n",
    "2. Обучите CNN на CIFAR-100 через дообучение ImageNet Resnet-50.\n",
    "3. \\*Обучите CNN на CIFAR-100 через дообучение ImageNet Resnet-50 с аугментацией данных.\n",
    "4. Сравните результаты обучения на эквивалентном числе эпох."
   ]
  },
  {
   "cell_type": "code",
   "execution_count": 1,
   "id": "e2ca2818-80d9-42c8-b36e-936a47406a9f",
   "metadata": {},
   "outputs": [],
   "source": [
    "%matplotlib inline\n",
    "\n",
    "import matplotlib.pyplot as plt\n",
    "import numpy as np\n",
    "import pickle\n",
    "import time\n",
    "import torch\n",
    "from torch import nn\n",
    "import torch.nn.functional as F\n",
    "from torchsummary import summary\n",
    "from torchvision import transforms, datasets, models"
   ]
  },
  {
   "cell_type": "code",
   "execution_count": 2,
   "id": "54cdce21-91f8-4ee3-a9f6-5df7ce3607a1",
   "metadata": {},
   "outputs": [],
   "source": [
    "PATH = './data/'\n",
    "RANDOM_STATE = 29"
   ]
  },
  {
   "cell_type": "markdown",
   "id": "b2a34788-fe5a-4d11-9049-bfcef8848017",
   "metadata": {},
   "source": [
    "Напишем функцию для загрузки данных для исключения повторения кода:"
   ]
  },
  {
   "cell_type": "code",
   "execution_count": 3,
   "id": "a4437a96-1394-418c-8d7d-e5557d6c0446",
   "metadata": {},
   "outputs": [],
   "source": [
    "def load_data(transform_train=transforms.ToTensor(), transform_test=transforms.ToTensor(), \n",
    "              download=True, verbose=True):\n",
    "    \n",
    "    train_dataset = datasets.CIFAR100(root=PATH,\n",
    "                                      transform=transform_train,\n",
    "                                      download=download)\n",
    "\n",
    "    test_dataset = datasets.CIFAR100(root=PATH,\n",
    "                                     train=False,\n",
    "                                     transform=transform_test,\n",
    "                                     download=download)\n",
    "    \n",
    "    if verbose:\n",
    "        print(f'Размер тренировочного датасета:\\t{len(train_dataset)}')\n",
    "        print(f'Размер тестового датасета:\\t{len(test_dataset)}')\n",
    "    \n",
    "    torch.random.manual_seed(RANDOM_STATE)\n",
    "\n",
    "    train_loader = torch.utils.data.DataLoader(train_dataset,\n",
    "                                               batch_size=128,\n",
    "                                               shuffle=True)\n",
    "\n",
    "    test_loader = torch.utils.data.DataLoader(test_dataset,\n",
    "                                              batch_size=128,\n",
    "                                              shuffle=False)\n",
    "    \n",
    "    return train_loader, test_loader"
   ]
  },
  {
   "cell_type": "markdown",
   "id": "de711da5-ef9f-41af-8f2d-c3a9589d2796",
   "metadata": {},
   "source": [
    "Напишем трансформер для аугментации. Вспомогательный трансформер нужен, т.к.  \n",
    "применение ToTensor() к тензору вызывает ошибку, когда мы используем ещё один  \n",
    "трансформер для подготовки данных для ResNet."
   ]
  },
  {
   "cell_type": "code",
   "execution_count": 4,
   "id": "c1ed0ca7-435f-4441-a4d7-62b2d5e9b142",
   "metadata": {},
   "outputs": [],
   "source": [
    "aug_transformers_ = transforms.Compose([\n",
    "    transforms.RandomHorizontalFlip(),\n",
    "    transforms.ColorJitter(brightness=0.2, contrast=0.2, saturation=0.2, hue=0.1),\n",
    "])\n",
    "\n",
    "aug_transformers = transforms.Compose([\n",
    "    aug_transformers_,\n",
    "    transforms.ToTensor()\n",
    "])"
   ]
  },
  {
   "cell_type": "markdown",
   "id": "0a6c1849-3f45-4ee5-aa13-c3a934c41311",
   "metadata": {},
   "source": [
    "## Наша модель"
   ]
  },
  {
   "cell_type": "markdown",
   "id": "38ef485a-f312-4b1f-973c-20256041d2f5",
   "metadata": {},
   "source": [
    "Загрузим данные. Для нашей модели сразу будем применять аугментации:"
   ]
  },
  {
   "cell_type": "code",
   "execution_count": 5,
   "id": "e1978f10-57dc-476d-8f65-b197390e27d9",
   "metadata": {},
   "outputs": [
    {
     "name": "stdout",
     "output_type": "stream",
     "text": [
      "Files already downloaded and verified\n",
      "Files already downloaded and verified\n",
      "Размер тренировочного датасета:\t50000\n",
      "Размер тестового датасета:\t10000\n"
     ]
    }
   ],
   "source": [
    "train_loader, test_loader = load_data(transform_train=aug_transformers)"
   ]
  },
  {
   "cell_type": "code",
   "execution_count": 6,
   "id": "c0f0775c-2089-42ca-966a-7ce7dbec6804",
   "metadata": {},
   "outputs": [
    {
     "data": {
      "text/plain": [
       "'cuda'"
      ]
     },
     "execution_count": 6,
     "metadata": {},
     "output_type": "execute_result"
    }
   ],
   "source": [
    "device = 'cuda' if torch.cuda.is_available() else 'cpu'\n",
    "device"
   ]
  },
  {
   "cell_type": "code",
   "execution_count": 7,
   "id": "12c00d64-5c18-41fa-952c-f558fcc60c08",
   "metadata": {},
   "outputs": [
    {
     "data": {
      "text/plain": [
       "torch.Size([3, 32, 32])"
      ]
     },
     "execution_count": 7,
     "metadata": {},
     "output_type": "execute_result"
    }
   ],
   "source": [
    "image_size = next(iter(train_loader))[0][0].shape\n",
    "image_size"
   ]
  },
  {
   "cell_type": "markdown",
   "id": "6271afa8-27c6-432d-9183-3427bd13ce90",
   "metadata": {},
   "source": [
    "Напишем нашу сеть, track_running_stats в батч-нормализации выключим,  \n",
    "т.к. это даёт лучшую точность:"
   ]
  },
  {
   "cell_type": "code",
   "execution_count": 10,
   "id": "32d4c456-d591-4a1c-ab3b-52b07ff222fc",
   "metadata": {},
   "outputs": [],
   "source": [
    "class MyNet(nn.Module):\n",
    "    def __init__(self):\n",
    "        super().__init__()\n",
    "        torch.random.manual_seed(RANDOM_STATE)\n",
    "        \n",
    "        self.conv1 = nn.Conv2d(image_size[0], 32, 3, padding=1) \n",
    "        self.maxpool = nn.MaxPool2d(2) \n",
    "        self.bn1 = nn.BatchNorm2d(32, track_running_stats=False)\n",
    "        self.dp = nn.Dropout(0.25)\n",
    "        self.dp2d = nn.Dropout2d(0.25)\n",
    "    \n",
    "        self.conv2 = nn.Conv2d(32, 64, 3, padding=1) \n",
    "        self.bn2 = nn.BatchNorm2d(64, track_running_stats=False)\n",
    "        \n",
    "        self.conv3 = nn.Conv2d(64, 128, 3, padding=1) \n",
    "        self.bn3 = nn.BatchNorm2d(128, track_running_stats=False)\n",
    "    \n",
    "        self.flatten = nn.Flatten()\n",
    "        self.fc1 = nn.Linear(128*4*4, 512)\n",
    "        self.bn4 = nn.BatchNorm1d(512, track_running_stats=False)\n",
    "        \n",
    "        self.fc2 = nn.Linear(512, 100)\n",
    "        \n",
    "    def forward(self, x):\n",
    "        \n",
    "        # Свёрточные слои\n",
    "        x = self.conv1(x) # 3x32x32 -> 32x32x32\n",
    "        x = self.maxpool(x) # 32x32x32 -> 32x16x16\n",
    "        # x = self.dp2d(x)\n",
    "        x = self.bn1(x)\n",
    "        x = F.relu(x)\n",
    "        \n",
    "        x = self.conv2(x) # 32x16x16 -> 64x16x16\n",
    "        x = self.maxpool(x) # 64x16x16 -> 64x8x8\n",
    "        x = self.dp2d(x)\n",
    "        x = self.bn2(x)\n",
    "        x = F.relu(x)\n",
    "        \n",
    "        x = self.conv3(x) # 64x8x8 -> 128x8x8\n",
    "        x = self.maxpool(x) # 128x8x8 -> 128x4x4\n",
    "        # x = self.dp2d(x)\n",
    "        x = self.bn3(x)\n",
    "        x = F.relu(x)\n",
    "        \n",
    "        # Полносвязные слои\n",
    "        x = self.flatten(x) # 128x4x4 -> 128*4*4\n",
    "        x = self.fc1(x)\n",
    "        x = self.dp(x)\n",
    "        x = self.bn4(x)\n",
    "        x = F.relu(x)\n",
    "        \n",
    "        x = self.fc2(x)\n",
    "        return x\n",
    "    \n",
    "    def predict(self, x):\n",
    "        x = self.forward(x)\n",
    "        x = F.softmax(x, dim=1)\n",
    "        return x"
   ]
  },
  {
   "cell_type": "code",
   "execution_count": 11,
   "id": "0f6a5c02-9f33-4888-833d-15b8efc521c4",
   "metadata": {},
   "outputs": [
    {
     "name": "stdout",
     "output_type": "stream",
     "text": [
      "----------------------------------------------------------------\n",
      "        Layer (type)               Output Shape         Param #\n",
      "================================================================\n",
      "            Conv2d-1           [-1, 32, 32, 32]             896\n",
      "         MaxPool2d-2           [-1, 32, 16, 16]               0\n",
      "       BatchNorm2d-3           [-1, 32, 16, 16]              64\n",
      "            Conv2d-4           [-1, 64, 16, 16]          18,496\n",
      "         MaxPool2d-5             [-1, 64, 8, 8]               0\n",
      "         Dropout2d-6             [-1, 64, 8, 8]               0\n",
      "       BatchNorm2d-7             [-1, 64, 8, 8]             128\n",
      "            Conv2d-8            [-1, 128, 8, 8]          73,856\n",
      "         MaxPool2d-9            [-1, 128, 4, 4]               0\n",
      "      BatchNorm2d-10            [-1, 128, 4, 4]             256\n",
      "          Flatten-11                 [-1, 2048]               0\n",
      "           Linear-12                  [-1, 512]       1,049,088\n",
      "          Dropout-13                  [-1, 512]               0\n",
      "      BatchNorm1d-14                  [-1, 512]           1,024\n",
      "           Linear-15                  [-1, 100]          51,300\n",
      "================================================================\n",
      "Total params: 1,195,108\n",
      "Trainable params: 1,195,108\n",
      "Non-trainable params: 0\n",
      "----------------------------------------------------------------\n",
      "Input size (MB): 0.01\n",
      "Forward/backward pass size (MB): 0.72\n",
      "Params size (MB): 4.56\n",
      "Estimated Total Size (MB): 5.29\n",
      "----------------------------------------------------------------\n"
     ]
    }
   ],
   "source": [
    "summary(MyNet().to(device), input_size=image_size)"
   ]
  },
  {
   "cell_type": "markdown",
   "id": "ee24cbed-683a-470c-9f84-86bde63f4a35",
   "metadata": {},
   "source": [
    "Общая функция для обучения моделей:"
   ]
  },
  {
   "cell_type": "code",
   "execution_count": 12,
   "id": "a7b2f3bd-cddf-44fb-86dd-967315c5d210",
   "metadata": {},
   "outputs": [],
   "source": [
    "def train_nn(net, train_loader, test_loader, lr=1e-3, epochs=5, verbose=True, parameters=None):\n",
    "\n",
    "    torch.backends.cudnn.deterministic = True\n",
    "    criterion = nn.CrossEntropyLoss()\n",
    "    if parameters is None:\n",
    "        parameters = net.parameters()\n",
    "    optimizer = torch.optim.Adam(parameters, lr=lr)\n",
    "    \n",
    "    metrics_train_global = np.array([])\n",
    "    metrics_test_global = np.array([])\n",
    "\n",
    "    for epoch in range(epochs):\n",
    "        start_time = time.time()\n",
    "        metrics_train = np.array([])\n",
    "        metrics_test = np.array([])\n",
    "        losses_train = np.array([])\n",
    "        losses_test = np.array([])\n",
    "\n",
    "        for i, data in enumerate(train_loader):\n",
    "            net.train()\n",
    "            inputs, labels = data[0].to(device), data[1].to(device)\n",
    "\n",
    "            optimizer.zero_grad()\n",
    "\n",
    "            outputs = net(inputs)\n",
    "            loss = criterion(outputs, labels)\n",
    "            loss.backward()\n",
    "            optimizer.step()\n",
    "            \n",
    "            losses_train = np.append(losses_train, loss.item())\n",
    "            net.eval()\n",
    "            metrics_train = np.append(metrics_train, (labels == outputs.argmax(axis=1)).sum().cpu() / len(labels))\n",
    "        \n",
    "        with torch.no_grad():\n",
    "            for i, data in enumerate(test_loader):\n",
    "                inputs, labels = data[0].to(device), data[1].to(device)\n",
    "                outputs = net(inputs)\n",
    "                loss = criterion(outputs, labels)\n",
    "                losses_test = np.append(losses_test, loss.item())\n",
    "                metrics_test = np.append(metrics_test, (labels == outputs.argmax(axis=1)).sum().cpu() / len(labels))    \n",
    "        \n",
    "        if verbose:\n",
    "            print(f'Epoch [{epoch + 1}/{epochs}]. ' \\\n",
    "                  f'Train loss: {losses_train.mean():.4f}. '\\\n",
    "                  f'Test loss: {losses_test.mean():.4f}. '\\\n",
    "                  f'Train accuracy: {metrics_train.mean():.4f}. '\\\n",
    "                  f'Test accuracy: {metrics_test.mean():.4f}. '\n",
    "                  f'Time: {int(time.time() - start_time)} s')\n",
    "        \n",
    "        metrics_train_global = np.append(metrics_train_global, metrics_train.mean())\n",
    "        metrics_test_global = np.append(metrics_test_global, metrics_test.mean())\n",
    "    print('Training is finished!')\n",
    "    return metrics_train_global, metrics_test_global"
   ]
  },
  {
   "cell_type": "markdown",
   "id": "007694d1-f900-4d6c-be02-4ba69f443407",
   "metadata": {},
   "source": [
    "Обучаем модель:"
   ]
  },
  {
   "cell_type": "code",
   "execution_count": 13,
   "id": "799d98b6-a10e-4591-bf86-c8c1fffeba4c",
   "metadata": {},
   "outputs": [
    {
     "name": "stdout",
     "output_type": "stream",
     "text": [
      "Epoch [1/20]. Train loss: 3.4855. Test loss: 2.7247. Train accuracy: 0.1812. Test accuracy: 0.3135. Time: 52 s\n",
      "Epoch [2/20]. Train loss: 2.6796. Test loss: 2.2979. Train accuracy: 0.3264. Test accuracy: 0.4032. Time: 50 s\n",
      "Epoch [3/20]. Train loss: 2.3519. Test loss: 2.1092. Train accuracy: 0.3921. Test accuracy: 0.4491. Time: 50 s\n",
      "Epoch [4/20]. Train loss: 2.1503. Test loss: 2.0233. Train accuracy: 0.4369. Test accuracy: 0.4683. Time: 50 s\n",
      "Epoch [5/20]. Train loss: 1.9956. Test loss: 1.9217. Train accuracy: 0.4717. Test accuracy: 0.4925. Time: 50 s\n",
      "Epoch [6/20]. Train loss: 1.8754. Test loss: 1.8797. Train accuracy: 0.4965. Test accuracy: 0.5069. Time: 50 s\n",
      "Epoch [7/20]. Train loss: 1.7858. Test loss: 1.8542. Train accuracy: 0.5157. Test accuracy: 0.5164. Time: 50 s\n",
      "Epoch [8/20]. Train loss: 1.6904. Test loss: 1.8482. Train accuracy: 0.5389. Test accuracy: 0.5177. Time: 47 s\n",
      "Epoch [9/20]. Train loss: 1.6173. Test loss: 1.8217. Train accuracy: 0.5564. Test accuracy: 0.5224. Time: 50 s\n",
      "Epoch [10/20]. Train loss: 1.5441. Test loss: 1.8047. Train accuracy: 0.5708. Test accuracy: 0.5326. Time: 50 s\n",
      "Epoch [11/20]. Train loss: 1.4909. Test loss: 1.8049. Train accuracy: 0.5874. Test accuracy: 0.5396. Time: 50 s\n",
      "Epoch [12/20]. Train loss: 1.4311. Test loss: 1.8275. Train accuracy: 0.6015. Test accuracy: 0.5429. Time: 50 s\n",
      "Epoch [13/20]. Train loss: 1.3824. Test loss: 1.8130. Train accuracy: 0.6111. Test accuracy: 0.5441. Time: 50 s\n",
      "Epoch [14/20]. Train loss: 1.3279. Test loss: 1.8491. Train accuracy: 0.6235. Test accuracy: 0.5402. Time: 50 s\n",
      "Epoch [15/20]. Train loss: 1.2880. Test loss: 1.8143. Train accuracy: 0.6365. Test accuracy: 0.5549. Time: 50 s\n",
      "Epoch [16/20]. Train loss: 1.2502. Test loss: 1.8787. Train accuracy: 0.6431. Test accuracy: 0.5438. Time: 50 s\n",
      "Epoch [17/20]. Train loss: 1.2130. Test loss: 1.8809. Train accuracy: 0.6522. Test accuracy: 0.5433. Time: 50 s\n",
      "Epoch [18/20]. Train loss: 1.1724. Test loss: 1.8798. Train accuracy: 0.6649. Test accuracy: 0.5495. Time: 50 s\n",
      "Epoch [19/20]. Train loss: 1.1303. Test loss: 1.8949. Train accuracy: 0.6736. Test accuracy: 0.5522. Time: 50 s\n",
      "Epoch [20/20]. Train loss: 1.1130. Test loss: 1.9423. Train accuracy: 0.6764. Test accuracy: 0.5442. Time: 50 s\n",
      "Training is finished!\n"
     ]
    }
   ],
   "source": [
    "mynet = MyNet().to(device)\n",
    "mynet_train, mynet_test = train_nn(mynet, train_loader, test_loader, epochs=20)"
   ]
  },
  {
   "cell_type": "markdown",
   "id": "d7e4c181-bf39-4bef-b007-196b094cc05d",
   "metadata": {},
   "source": [
    "## ResNet50"
   ]
  },
  {
   "cell_type": "markdown",
   "id": "08118ef3-50c6-438f-9fcb-35db45dc4441",
   "metadata": {},
   "source": [
    "Напишем трансформеры для этой модели:"
   ]
  },
  {
   "cell_type": "code",
   "execution_count": 14,
   "id": "cdad0c2f-70db-4b4f-b639-f0a830131bcf",
   "metadata": {},
   "outputs": [],
   "source": [
    "resnet_transformer = transforms.Compose([\n",
    "    transforms.Resize((224, 224)),\n",
    "    transforms.ToTensor()\n",
    "])"
   ]
  },
  {
   "cell_type": "code",
   "execution_count": 15,
   "id": "cd8a658b-cfef-428d-bde2-5767b3e69259",
   "metadata": {},
   "outputs": [],
   "source": [
    "resnet_aug_transformer = transforms.Compose([\n",
    "    aug_transformers_,\n",
    "    resnet_transformer\n",
    "])"
   ]
  },
  {
   "cell_type": "markdown",
   "id": "d36fb84d-0849-4ccf-aa35-a375560f9c41",
   "metadata": {},
   "source": [
    "Обернём все этапы в функцию, чтобы потом не дублировать код при  \n",
    "обучении ResNet с аугментацией:"
   ]
  },
  {
   "cell_type": "code",
   "execution_count": 16,
   "id": "6d652136-b845-40b4-b70c-8c64ed29dc19",
   "metadata": {},
   "outputs": [],
   "source": [
    "def train_resnet(transformer_train, epochs=5, verbose=1):\n",
    "    resnet50 = models.resnet50(weights=models.ResNet50_Weights.DEFAULT)\n",
    "    \n",
    "    for param in resnet50.parameters():\n",
    "        param.requires_grad = False\n",
    "        \n",
    "    resnet_train_loader, resnet_test_loader = load_data(transform_train=transformer_train, \n",
    "                                                        transform_test=resnet_transformer,\n",
    "                                                        download=False, verbose=False)\n",
    "    \n",
    "    torch.random.manual_seed(RANDOM_STATE)\n",
    "    resnet50.fc = nn.Linear(2048, 100)\n",
    "\n",
    "    params_to_update = []\n",
    "    for param in resnet50.parameters():\n",
    "        if param.requires_grad == True:\n",
    "            params_to_update.append(param)\n",
    "    \n",
    "    resnet50 = resnet50.to(device)\n",
    "    resnet_train, resnet_test = train_nn(resnet50, resnet_train_loader, resnet_test_loader, \n",
    "                                         epochs=epochs, verbose=verbose, parameters=params_to_update)\n",
    "    return resnet50, resnet_train, resnet_test"
   ]
  },
  {
   "cell_type": "markdown",
   "id": "bc2212c1-bb6a-49f9-955d-c6f27994f6ba",
   "metadata": {},
   "source": [
    "Обучим ResNet без аугментации:"
   ]
  },
  {
   "cell_type": "code",
   "execution_count": 17,
   "id": "c751dfec-f7e9-411f-8fdf-033e71066a18",
   "metadata": {},
   "outputs": [
    {
     "name": "stderr",
     "output_type": "stream",
     "text": [
      "Downloading: \"https://download.pytorch.org/models/resnet50-11ad3fa6.pth\" to C:\\Users\\leva_/.cache\\torch\\hub\\checkpoints\\resnet50-11ad3fa6.pth\n",
      "100%|█████████████████████████████████████████████████████████████████████████████| 97.8M/97.8M [00:28<00:00, 3.59MB/s]\n"
     ]
    },
    {
     "name": "stdout",
     "output_type": "stream",
     "text": [
      "Epoch [1/20]. Train loss: 2.5938. Test loss: 1.9313. Train accuracy: 0.4167. Test accuracy: 0.5261. Time: 354 s\n",
      "Epoch [2/20]. Train loss: 1.6756. Test loss: 1.6810. Train accuracy: 0.5767. Test accuracy: 0.5638. Time: 352 s\n",
      "Epoch [3/20]. Train loss: 1.4176. Test loss: 1.5881. Train accuracy: 0.6306. Test accuracy: 0.5780. Time: 351 s\n",
      "Epoch [4/20]. Train loss: 1.2683. Test loss: 1.5233. Train accuracy: 0.6650. Test accuracy: 0.5887. Time: 351 s\n",
      "Epoch [5/20]. Train loss: 1.1544. Test loss: 1.4842. Train accuracy: 0.6945. Test accuracy: 0.6003. Time: 351 s\n",
      "Epoch [6/20]. Train loss: 1.0655. Test loss: 1.4692. Train accuracy: 0.7170. Test accuracy: 0.6015. Time: 351 s\n",
      "Epoch [7/20]. Train loss: 0.9915. Test loss: 1.4597. Train accuracy: 0.7380. Test accuracy: 0.6060. Time: 351 s\n",
      "Epoch [8/20]. Train loss: 0.9309. Test loss: 1.4596. Train accuracy: 0.7528. Test accuracy: 0.6039. Time: 351 s\n",
      "Epoch [9/20]. Train loss: 0.8767. Test loss: 1.4457. Train accuracy: 0.7688. Test accuracy: 0.6055. Time: 351 s\n",
      "Epoch [10/20]. Train loss: 0.8308. Test loss: 1.4517. Train accuracy: 0.7818. Test accuracy: 0.6073. Time: 351 s\n",
      "Epoch [11/20]. Train loss: 0.7833. Test loss: 1.4571. Train accuracy: 0.7980. Test accuracy: 0.6056. Time: 351 s\n",
      "Epoch [12/20]. Train loss: 0.7477. Test loss: 1.4448. Train accuracy: 0.8054. Test accuracy: 0.6078. Time: 351 s\n",
      "Epoch [13/20]. Train loss: 0.7131. Test loss: 1.4488. Train accuracy: 0.8162. Test accuracy: 0.6088. Time: 350 s\n",
      "Epoch [14/20]. Train loss: 0.6785. Test loss: 1.4634. Train accuracy: 0.8255. Test accuracy: 0.6078. Time: 350 s\n",
      "Epoch [15/20]. Train loss: 0.6513. Test loss: 1.4740. Train accuracy: 0.8340. Test accuracy: 0.6049. Time: 350 s\n",
      "Epoch [16/20]. Train loss: 0.6244. Test loss: 1.4866. Train accuracy: 0.8386. Test accuracy: 0.6034. Time: 351 s\n",
      "Epoch [17/20]. Train loss: 0.6003. Test loss: 1.4934. Train accuracy: 0.8487. Test accuracy: 0.6043. Time: 351 s\n",
      "Epoch [18/20]. Train loss: 0.5754. Test loss: 1.4941. Train accuracy: 0.8554. Test accuracy: 0.6056. Time: 351 s\n",
      "Epoch [19/20]. Train loss: 0.5548. Test loss: 1.5079. Train accuracy: 0.8615. Test accuracy: 0.6018. Time: 351 s\n",
      "Epoch [20/20]. Train loss: 0.5372. Test loss: 1.5166. Train accuracy: 0.8654. Test accuracy: 0.6024. Time: 351 s\n",
      "Training is finished!\n"
     ]
    }
   ],
   "source": [
    "resnet50, resnet_train, resnet_test = train_resnet(resnet_transformer, epochs=20)"
   ]
  },
  {
   "cell_type": "markdown",
   "id": "08af3d98-2a17-4462-937b-8b2d27612905",
   "metadata": {},
   "source": [
    "Обучим ResNet с аугментацией:"
   ]
  },
  {
   "cell_type": "code",
   "execution_count": 18,
   "id": "77c07af3-076f-4a5a-b7a3-8ba851596b5a",
   "metadata": {},
   "outputs": [
    {
     "name": "stdout",
     "output_type": "stream",
     "text": [
      "Epoch [1/20]. Train loss: 2.8360. Test loss: 2.0525. Train accuracy: 0.3617. Test accuracy: 0.5052. Time: 379 s\n",
      "Epoch [2/20]. Train loss: 2.0108. Test loss: 1.7701. Train accuracy: 0.4950. Test accuracy: 0.5489. Time: 379 s\n",
      "Epoch [3/20]. Train loss: 1.7872. Test loss: 1.6509. Train accuracy: 0.5372. Test accuracy: 0.5719. Time: 379 s\n",
      "Epoch [4/20]. Train loss: 1.6630. Test loss: 1.5670. Train accuracy: 0.5614. Test accuracy: 0.5857. Time: 379 s\n",
      "Epoch [5/20]. Train loss: 1.5797. Test loss: 1.5357. Train accuracy: 0.5794. Test accuracy: 0.5928. Time: 379 s\n",
      "Epoch [6/20]. Train loss: 1.5218. Test loss: 1.4970. Train accuracy: 0.5930. Test accuracy: 0.5981. Time: 379 s\n",
      "Epoch [7/20]. Train loss: 1.4781. Test loss: 1.4746. Train accuracy: 0.6003. Test accuracy: 0.6028. Time: 380 s\n",
      "Epoch [8/20]. Train loss: 1.4290. Test loss: 1.4803. Train accuracy: 0.6102. Test accuracy: 0.6001. Time: 379 s\n",
      "Epoch [9/20]. Train loss: 1.3971. Test loss: 1.4508. Train accuracy: 0.6187. Test accuracy: 0.6060. Time: 379 s\n",
      "Epoch [10/20]. Train loss: 1.3676. Test loss: 1.4349. Train accuracy: 0.6265. Test accuracy: 0.6092. Time: 378 s\n",
      "Epoch [11/20]. Train loss: 1.3451. Test loss: 1.4293. Train accuracy: 0.6329. Test accuracy: 0.6100. Time: 378 s\n",
      "Epoch [12/20]. Train loss: 1.3227. Test loss: 1.4252. Train accuracy: 0.6371. Test accuracy: 0.6109. Time: 378 s\n",
      "Epoch [13/20]. Train loss: 1.3059. Test loss: 1.4203. Train accuracy: 0.6409. Test accuracy: 0.6113. Time: 378 s\n",
      "Epoch [14/20]. Train loss: 1.2815. Test loss: 1.4171. Train accuracy: 0.6448. Test accuracy: 0.6162. Time: 380 s\n",
      "Epoch [15/20]. Train loss: 1.2769. Test loss: 1.4022. Train accuracy: 0.6457. Test accuracy: 0.6193. Time: 380 s\n",
      "Epoch [16/20]. Train loss: 1.2549. Test loss: 1.4177. Train accuracy: 0.6513. Test accuracy: 0.6135. Time: 380 s\n",
      "Epoch [17/20]. Train loss: 1.2400. Test loss: 1.4116. Train accuracy: 0.6571. Test accuracy: 0.6129. Time: 379 s\n",
      "Epoch [18/20]. Train loss: 1.2269. Test loss: 1.4130. Train accuracy: 0.6577. Test accuracy: 0.6139. Time: 379 s\n",
      "Epoch [19/20]. Train loss: 1.2134. Test loss: 1.4146. Train accuracy: 0.6586. Test accuracy: 0.6134. Time: 379 s\n",
      "Epoch [20/20]. Train loss: 1.2068. Test loss: 1.4143. Train accuracy: 0.6631. Test accuracy: 0.6127. Time: 379 s\n",
      "Training is finished!\n"
     ]
    }
   ],
   "source": [
    "resnet50_aug, resnet_aug_train, resnet_aug_test = train_resnet(resnet_aug_transformer, epochs=20)"
   ]
  },
  {
   "cell_type": "markdown",
   "id": "e2938cc7-5abb-49f2-b257-b471c8673835",
   "metadata": {},
   "source": [
    "Построим графики метрики:"
   ]
  },
  {
   "cell_type": "code",
   "execution_count": 21,
   "id": "8bb6db9b-8321-4a4d-b7af-e058c1fa0dd9",
   "metadata": {},
   "outputs": [
    {
     "data": {
      "image/png": "[encoded data removed]",
      "text/plain": [
       "<Figure size 1600x500 with 3 Axes>"
      ]
     },
     "metadata": {},
     "output_type": "display_data"
    }
   ],
   "source": [
    "plt.figure(figsize=(16, 5))\n",
    "plt.rcParams.update({'font.size': 14})\n",
    "\n",
    "plt.subplot(1, 3, 1)\n",
    "plt.plot(range(len(mynet_train)), mynet_train, label='Train')\n",
    "plt.plot(range(len(mynet_test)), mynet_test, label='Test')\n",
    "plt.title('My model')\n",
    "plt.ylabel('Accuracy')\n",
    "plt.xlabel('Epochs')\n",
    "plt.ylim([0, 1])\n",
    "plt.grid()\n",
    "plt.legend()\n",
    "\n",
    "plt.subplot(1, 3, 2)\n",
    "plt.plot(range(len(resnet_train)), resnet_train, label='Train')\n",
    "plt.plot(range(len(resnet_test)), resnet_test, label='Test')\n",
    "plt.title('Resnet50')\n",
    "plt.xlabel('Epochs')\n",
    "plt.ylim([0, 1])\n",
    "plt.grid()\n",
    "plt.legend()\n",
    "\n",
    "plt.subplot(1, 3, 3)\n",
    "plt.plot(range(len(resnet_aug_train)), resnet_aug_train, label='Train')\n",
    "plt.plot(range(len(resnet_aug_test)), resnet_aug_test, label='Test')\n",
    "plt.title('Resnet50 augmentations')\n",
    "plt.xlabel('Epochs')\n",
    "plt.ylim([0, 1])\n",
    "plt.grid()\n",
    "plt.legend()\n",
    "\n",
    "plt.show()"
   ]
  },
  {
   "cell_type": "markdown",
   "id": "d64e985d-00ed-4e5a-bd58-0fa5b550c75d",
   "metadata": {},
   "source": [
    "Теперь сравним точность предсказания моделей на тестовых данных между собой:"
   ]
  },
  {
   "cell_type": "code",
   "execution_count": 23,
   "id": "6ce69cb5-d10b-46d0-9622-f5c14007dbfb",
   "metadata": {},
   "outputs": [
    {
     "data": {
      "image/png": "[encoded data removed]",
      "text/plain": [
       "<Figure size 800x400 with 1 Axes>"
      ]
     },
     "metadata": {},
     "output_type": "display_data"
    }
   ],
   "source": [
    "plt.figure(figsize=(8, 4))\n",
    "plt.plot(range(len(mynet_test)), mynet_test, label='My model')\n",
    "plt.plot(range(len(resnet_test)), resnet_test, label='Resnet50')\n",
    "plt.plot(range(len(resnet_aug_test)), resnet_aug_test, label='Resnet50 aug')\n",
    "plt.title('График Accuracy различных моделей')\n",
    "plt.xlabel('Epochs')\n",
    "plt.ylabel('Accuracy')\n",
    "plt.ylim([0, 1])\n",
    "plt.grid()\n",
    "plt.legend()\n",
    "plt.show()"
   ]
  },
  {
   "cell_type": "markdown",
   "id": "6f56bc69-5bdb-430e-9507-fad3138320ed",
   "metadata": {},
   "source": [
    "ResNet50 с аугментацией показал чуть более высокую точность, чем аналогичная модель без аугментации."
   ]
  }
 ],
 "metadata": {
  "kernelspec": {
   "display_name": "Python 3 (ipykernel)",
   "language": "python",
   "name": "python3"
  },
  "language_info": {
   "codemirror_mode": {
    "name": "ipython",
    "version": 3
   },
   "file_extension": ".py",
   "mimetype": "text/x-python",
   "name": "python",
   "nbconvert_exporter": "python",
   "pygments_lexer": "ipython3",
   "version": "3.9.13"
  }
 },
 "nbformat": 4,
 "nbformat_minor": 5
}
