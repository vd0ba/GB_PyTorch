{
 "cells": [
  {
   "cell_type": "markdown",
   "metadata": {
    "id": "pSRTRX8RB1kW"
   },
   "source": [
    "# Домашнее задание №6. Нейросети в обработке текста"
   ]
  },
  {
   "cell_type": "code",
   "execution_count": 18,
   "metadata": {
    "colab": {
     "base_uri": "https://localhost:8080/"
    },
    "executionInfo": {
     "elapsed": 605,
     "status": "ok",
     "timestamp": 1670960081944,
     "user": {
      "displayName": "Maxim Gasilin",
      "userId": "15501735730920561422"
     },
     "user_tz": -180
    },
    "id": "EtTkyIJ-paoR",
    "outputId": "aacb5ff2-3456-42fe-8b48-89c221a37294"
   },
   "outputs": [
    {
     "name": "stderr",
     "output_type": "stream",
     "text": [
      "[nltk_data] Downloading package wordnet to\n",
      "[nltk_data]     C:\\Users\\leva_\\AppData\\Roaming\\nltk_data...\n",
      "[nltk_data]   Package wordnet is already up-to-date!\n",
      "[nltk_data] Downloading package punkt to\n",
      "[nltk_data]     C:\\Users\\leva_\\AppData\\Roaming\\nltk_data...\n",
      "[nltk_data]   Package punkt is already up-to-date!\n",
      "[nltk_data] Downloading package stopwords to\n",
      "[nltk_data]     C:\\Users\\leva_\\AppData\\Roaming\\nltk_data...\n",
      "[nltk_data]   Package stopwords is already up-to-date!\n",
      "[nltk_data] Downloading package omw-1.4 to\n",
      "[nltk_data]     C:\\Users\\leva_\\AppData\\Roaming\\nltk_data...\n",
      "[nltk_data]   Package omw-1.4 is already up-to-date!\n"
     ]
    }
   ],
   "source": [
    "#предобработка\n",
    "from string import punctuation\n",
    "#from stop_words import get_stop_words\n",
    "from pymorphy2 import MorphAnalyzer\n",
    "import re\n",
    "import nltk\n",
    "\n",
    "nltk.download('wordnet')\n",
    "nltk.download(\"punkt\")\n",
    "nltk.download('stopwords')\n",
    "nltk.download('omw-1.4')\n",
    "\n",
    "from nltk.stem import WordNetLemmatizer \n",
    "from nltk.corpus import stopwords\n",
    "from nltk.tokenize import word_tokenize\n",
    "from nltk.probability import FreqDist\n",
    "\n",
    "import numpy as np\n",
    "import pandas as pd\n",
    "import matplotlib.pyplot as plt\n",
    "\n",
    "from sklearn.model_selection import train_test_split\n",
    "\n",
    "import torch\n",
    "import torch.nn as nn\n",
    "import torch.nn.functional as F\n",
    "from torch.utils.data import DataLoader, Dataset"
   ]
  },
  {
   "cell_type": "markdown",
   "metadata": {
    "id": "67uFFBXspaoT"
   },
   "source": [
    "## Задание\n",
    "\n",
    "1. Попробуйте обучить нейронную сеть с применением одномерных сверток для предсказания сентимента сообщений с твитера на примере https://www.kaggle.com/datasets/arkhoshghalb/twitter-sentiment-analysis-hatred-speech\n",
    "\n",
    "2. Опишите, какой результат вы получили? Что помогло вам улучшить ее точность?"
   ]
  },
  {
   "cell_type": "code",
   "execution_count": 19,
   "metadata": {
    "executionInfo": {
     "elapsed": 439,
     "status": "ok",
     "timestamp": 1670959442446,
     "user": {
      "displayName": "Maxim Gasilin",
      "userId": "15501735730920561422"
     },
     "user_tz": -180
    },
    "id": "DvzkJSXeFbnm"
   },
   "outputs": [],
   "source": [
    "max_words = 2000\n",
    "max_len = 20\n",
    "num_classes = 1\n",
    "\n",
    "# обучение\n",
    "epochs = 10\n",
    "batch_size = 512\n",
    "print_batch_n = 100"
   ]
  },
  {
   "cell_type": "code",
   "execution_count": 20,
   "metadata": {
    "executionInfo": {
     "elapsed": 422,
     "status": "ok",
     "timestamp": 1670959723115,
     "user": {
      "displayName": "Maxim Gasilin",
      "userId": "15501735730920561422"
     },
     "user_tz": -180
    },
    "id": "flIC6_87paoX"
   },
   "outputs": [],
   "source": [
    "# пути к данным\n",
    "dataset_train  = 'data/train.csv'\n",
    "dataset_test  = 'data/test.csv'"
   ]
  },
  {
   "cell_type": "code",
   "execution_count": 21,
   "metadata": {
    "executionInfo": {
     "elapsed": 419,
     "status": "ok",
     "timestamp": 1670959725651,
     "user": {
      "displayName": "Maxim Gasilin",
      "userId": "15501735730920561422"
     },
     "user_tz": -180
    },
    "id": "BGYdh-ZUpaoX"
   },
   "outputs": [],
   "source": [
    "#загрузка данных\n",
    "data_train = pd.read_csv(dataset_train, encoding='utf-8')\n",
    "data_test = pd.read_csv(dataset_test, encoding='utf-8')"
   ]
  },
  {
   "cell_type": "code",
   "execution_count": 22,
   "metadata": {
    "colab": {
     "base_uri": "https://localhost:8080/",
     "height": 206
    },
    "executionInfo": {
     "elapsed": 7,
     "status": "ok",
     "timestamp": 1670959727336,
     "user": {
      "displayName": "Maxim Gasilin",
      "userId": "15501735730920561422"
     },
     "user_tz": -180
    },
    "id": "2Aon0BrupaoY",
    "outputId": "e361b94d-60bf-4a39-94ed-5fb447f20dfc"
   },
   "outputs": [
    {
     "data": {
      "text/html": [
       "<div>\n",
       "<style scoped>\n",
       "    .dataframe tbody tr th:only-of-type {\n",
       "        vertical-align: middle;\n",
       "    }\n",
       "\n",
       "    .dataframe tbody tr th {\n",
       "        vertical-align: top;\n",
       "    }\n",
       "\n",
       "    .dataframe thead th {\n",
       "        text-align: right;\n",
       "    }\n",
       "</style>\n",
       "<table border=\"1\" class=\"dataframe\">\n",
       "  <thead>\n",
       "    <tr style=\"text-align: right;\">\n",
       "      <th></th>\n",
       "      <th>id</th>\n",
       "      <th>text</th>\n",
       "      <th>class</th>\n",
       "    </tr>\n",
       "  </thead>\n",
       "  <tbody>\n",
       "    <tr>\n",
       "      <th>0</th>\n",
       "      <td>0</td>\n",
       "      <td>@alisachachka не уезжаааааааай. :(❤ я тоже не ...</td>\n",
       "      <td>0</td>\n",
       "    </tr>\n",
       "    <tr>\n",
       "      <th>1</th>\n",
       "      <td>1</td>\n",
       "      <td>RT @GalyginVadim: Ребята и девчата!\\nВсе в кин...</td>\n",
       "      <td>1</td>\n",
       "    </tr>\n",
       "    <tr>\n",
       "      <th>2</th>\n",
       "      <td>2</td>\n",
       "      <td>RT @ARTEM_KLYUSHIN: Кто ненавидит пробки ретви...</td>\n",
       "      <td>0</td>\n",
       "    </tr>\n",
       "    <tr>\n",
       "      <th>3</th>\n",
       "      <td>3</td>\n",
       "      <td>RT @epupybobv: Хочется котлету по-киевски. Зап...</td>\n",
       "      <td>1</td>\n",
       "    </tr>\n",
       "    <tr>\n",
       "      <th>4</th>\n",
       "      <td>4</td>\n",
       "      <td>@KarineKurganova @Yess__Boss босапопа есбоса н...</td>\n",
       "      <td>1</td>\n",
       "    </tr>\n",
       "  </tbody>\n",
       "</table>\n",
       "</div>"
      ],
      "text/plain": [
       "   id                                               text  class\n",
       "0   0  @alisachachka не уезжаааааааай. :(❤ я тоже не ...      0\n",
       "1   1  RT @GalyginVadim: Ребята и девчата!\\nВсе в кин...      1\n",
       "2   2  RT @ARTEM_KLYUSHIN: Кто ненавидит пробки ретви...      0\n",
       "3   3  RT @epupybobv: Хочется котлету по-киевски. Зап...      1\n",
       "4   4  @KarineKurganova @Yess__Boss босапопа есбоса н...      1"
      ]
     },
     "execution_count": 22,
     "metadata": {},
     "output_type": "execute_result"
    }
   ],
   "source": [
    "#тренировочный датасет\n",
    "data_train.head()"
   ]
  },
  {
   "cell_type": "code",
   "execution_count": 23,
   "metadata": {
    "colab": {
     "base_uri": "https://localhost:8080/",
     "height": 206
    },
    "executionInfo": {
     "elapsed": 455,
     "status": "ok",
     "timestamp": 1670959730842,
     "user": {
      "displayName": "Maxim Gasilin",
      "userId": "15501735730920561422"
     },
     "user_tz": -180
    },
    "id": "aOmSNPZOpaoZ",
    "outputId": "c1ed23fc-59bb-493a-afe5-2fad7b12431b"
   },
   "outputs": [
    {
     "data": {
      "text/html": [
       "<div>\n",
       "<style scoped>\n",
       "    .dataframe tbody tr th:only-of-type {\n",
       "        vertical-align: middle;\n",
       "    }\n",
       "\n",
       "    .dataframe tbody tr th {\n",
       "        vertical-align: top;\n",
       "    }\n",
       "\n",
       "    .dataframe thead th {\n",
       "        text-align: right;\n",
       "    }\n",
       "</style>\n",
       "<table border=\"1\" class=\"dataframe\">\n",
       "  <thead>\n",
       "    <tr style=\"text-align: right;\">\n",
       "      <th></th>\n",
       "      <th>id</th>\n",
       "      <th>text</th>\n",
       "    </tr>\n",
       "  </thead>\n",
       "  <tbody>\n",
       "    <tr>\n",
       "      <th>0</th>\n",
       "      <td>204150</td>\n",
       "      <td>Тектоника и рельеф-самое ужасное в мире мучение(</td>\n",
       "    </tr>\n",
       "    <tr>\n",
       "      <th>1</th>\n",
       "      <td>204151</td>\n",
       "      <td>Ходили запускать шар желаний, но у нас не полу...</td>\n",
       "    </tr>\n",
       "    <tr>\n",
       "      <th>2</th>\n",
       "      <td>204152</td>\n",
       "      <td>Хочу лето только ради того, что бы направить н...</td>\n",
       "    </tr>\n",
       "    <tr>\n",
       "      <th>3</th>\n",
       "      <td>204153</td>\n",
       "      <td>RT @RonyLiss: @colf_ne блин((\\nа я шипперила Ф...</td>\n",
       "    </tr>\n",
       "    <tr>\n",
       "      <th>4</th>\n",
       "      <td>204154</td>\n",
       "      <td>RT @anna_romt: @ZADROT_PO_IGRAM блин,каждое во...</td>\n",
       "    </tr>\n",
       "  </tbody>\n",
       "</table>\n",
       "</div>"
      ],
      "text/plain": [
       "       id                                               text\n",
       "0  204150   Тектоника и рельеф-самое ужасное в мире мучение(\n",
       "1  204151  Ходили запускать шар желаний, но у нас не полу...\n",
       "2  204152  Хочу лето только ради того, что бы направить н...\n",
       "3  204153  RT @RonyLiss: @colf_ne блин((\\nа я шипперила Ф...\n",
       "4  204154  RT @anna_romt: @ZADROT_PO_IGRAM блин,каждое во..."
      ]
     },
     "execution_count": 23,
     "metadata": {},
     "output_type": "execute_result"
    }
   ],
   "source": [
    "#тестовый датасет\n",
    "data_test.head()"
   ]
  },
  {
   "cell_type": "code",
   "execution_count": 24,
   "metadata": {
    "executionInfo": {
     "elapsed": 3,
     "status": "ok",
     "timestamp": 1670959734087,
     "user": {
      "displayName": "Maxim Gasilin",
      "userId": "15501735730920561422"
     },
     "user_tz": -180
    },
    "id": "L02ks5LHGL2a"
   },
   "outputs": [],
   "source": [
    "#разделение тренировочного датасета на обучающий и валидационный\n",
    "df_train, df_valid = train_test_split(data_train, test_size=0.3, random_state=42)"
   ]
  },
  {
   "cell_type": "code",
   "execution_count": 25,
   "metadata": {
    "colab": {
     "base_uri": "https://localhost:8080/",
     "height": 206
    },
    "executionInfo": {
     "elapsed": 5,
     "status": "ok",
     "timestamp": 1670959736226,
     "user": {
      "displayName": "Maxim Gasilin",
      "userId": "15501735730920561422"
     },
     "user_tz": -180
    },
    "id": "w9om6Y83HG7f",
    "outputId": "1c251832-4213-4bce-874d-5a11883b167a"
   },
   "outputs": [
    {
     "data": {
      "text/html": [
       "<div>\n",
       "<style scoped>\n",
       "    .dataframe tbody tr th:only-of-type {\n",
       "        vertical-align: middle;\n",
       "    }\n",
       "\n",
       "    .dataframe tbody tr th {\n",
       "        vertical-align: top;\n",
       "    }\n",
       "\n",
       "    .dataframe thead th {\n",
       "        text-align: right;\n",
       "    }\n",
       "</style>\n",
       "<table border=\"1\" class=\"dataframe\">\n",
       "  <thead>\n",
       "    <tr style=\"text-align: right;\">\n",
       "      <th></th>\n",
       "      <th>id</th>\n",
       "      <th>text</th>\n",
       "      <th>class</th>\n",
       "    </tr>\n",
       "  </thead>\n",
       "  <tbody>\n",
       "    <tr>\n",
       "      <th>152276</th>\n",
       "      <td>152276</td>\n",
       "      <td>Вот капец. @xam_vz вышел, а я его ещё ни разу ...</td>\n",
       "      <td>0</td>\n",
       "    </tr>\n",
       "    <tr>\n",
       "      <th>3026</th>\n",
       "      <td>3026</td>\n",
       "      <td>проснулась пораньше, чтобы хоть немного подгот...</td>\n",
       "      <td>1</td>\n",
       "    </tr>\n",
       "    <tr>\n",
       "      <th>129883</th>\n",
       "      <td>129883</td>\n",
       "      <td>Мамка сегодня спонтанна купила мне киндер сюрп...</td>\n",
       "      <td>1</td>\n",
       "    </tr>\n",
       "    <tr>\n",
       "      <th>103260</th>\n",
       "      <td>103260</td>\n",
       "      <td>@iKurash1 Неприятно будет, если выяснится, что...</td>\n",
       "      <td>0</td>\n",
       "    </tr>\n",
       "    <tr>\n",
       "      <th>1592</th>\n",
       "      <td>1592</td>\n",
       "      <td>RT @IRkIN163rus: Почему нам нравятся люди, кот...</td>\n",
       "      <td>0</td>\n",
       "    </tr>\n",
       "  </tbody>\n",
       "</table>\n",
       "</div>"
      ],
      "text/plain": [
       "            id                                               text  class\n",
       "152276  152276  Вот капец. @xam_vz вышел, а я его ещё ни разу ...      0\n",
       "3026      3026  проснулась пораньше, чтобы хоть немного подгот...      1\n",
       "129883  129883  Мамка сегодня спонтанна купила мне киндер сюрп...      1\n",
       "103260  103260  @iKurash1 Неприятно будет, если выяснится, что...      0\n",
       "1592      1592  RT @IRkIN163rus: Почему нам нравятся люди, кот...      0"
      ]
     },
     "execution_count": 25,
     "metadata": {},
     "output_type": "execute_result"
    }
   ],
   "source": [
    "#датасет для обучения модели\n",
    "df_train.head()"
   ]
  },
  {
   "cell_type": "code",
   "execution_count": 26,
   "metadata": {
    "colab": {
     "base_uri": "https://localhost:8080/"
    },
    "executionInfo": {
     "elapsed": 422,
     "status": "ok",
     "timestamp": 1670959738662,
     "user": {
      "displayName": "Maxim Gasilin",
      "userId": "15501735730920561422"
     },
     "user_tz": -180
    },
    "id": "JJ2fcNOipaoY",
    "outputId": "fc419ad0-edc1-4aab-c4fc-104261fd346c"
   },
   "outputs": [
    {
     "data": {
      "text/plain": [
       "1    64260\n",
       "0    62766\n",
       "Name: class, dtype: int64"
      ]
     },
     "execution_count": 26,
     "metadata": {},
     "output_type": "execute_result"
    }
   ],
   "source": [
    "df_train['class'].value_counts()"
   ]
  },
  {
   "cell_type": "code",
   "execution_count": 27,
   "metadata": {
    "colab": {
     "base_uri": "https://localhost:8080/",
     "height": 206
    },
    "executionInfo": {
     "elapsed": 6,
     "status": "ok",
     "timestamp": 1670959740239,
     "user": {
      "displayName": "Maxim Gasilin",
      "userId": "15501735730920561422"
     },
     "user_tz": -180
    },
    "id": "Xfymqg6wHNnJ",
    "outputId": "94592032-838f-4653-e44c-dc7aa24dac5e"
   },
   "outputs": [
    {
     "data": {
      "text/html": [
       "<div>\n",
       "<style scoped>\n",
       "    .dataframe tbody tr th:only-of-type {\n",
       "        vertical-align: middle;\n",
       "    }\n",
       "\n",
       "    .dataframe tbody tr th {\n",
       "        vertical-align: top;\n",
       "    }\n",
       "\n",
       "    .dataframe thead th {\n",
       "        text-align: right;\n",
       "    }\n",
       "</style>\n",
       "<table border=\"1\" class=\"dataframe\">\n",
       "  <thead>\n",
       "    <tr style=\"text-align: right;\">\n",
       "      <th></th>\n",
       "      <th>id</th>\n",
       "      <th>text</th>\n",
       "      <th>class</th>\n",
       "    </tr>\n",
       "  </thead>\n",
       "  <tbody>\n",
       "    <tr>\n",
       "      <th>133370</th>\n",
       "      <td>133370</td>\n",
       "      <td>@ArtMayers Я думала туса интересная))) а то на...</td>\n",
       "      <td>1</td>\n",
       "    </tr>\n",
       "    <tr>\n",
       "      <th>84601</th>\n",
       "      <td>84601</td>\n",
       "      <td>рядом дышии, и не будем мы грустить заяя...\\nп...</td>\n",
       "      <td>1</td>\n",
       "    </tr>\n",
       "    <tr>\n",
       "      <th>78178</th>\n",
       "      <td>78178</td>\n",
       "      <td>вот че она ржет надо мной=( http://t.co/dGP8la...</td>\n",
       "      <td>0</td>\n",
       "    </tr>\n",
       "    <tr>\n",
       "      <th>49055</th>\n",
       "      <td>49055</td>\n",
       "      <td>А мы и сообщения не пишем:( #жизньболь http://...</td>\n",
       "      <td>0</td>\n",
       "    </tr>\n",
       "    <tr>\n",
       "      <th>159239</th>\n",
       "      <td>159239</td>\n",
       "      <td>@Horan_69_ID иди полежи или таблетку выпей(</td>\n",
       "      <td>0</td>\n",
       "    </tr>\n",
       "  </tbody>\n",
       "</table>\n",
       "</div>"
      ],
      "text/plain": [
       "            id                                               text  class\n",
       "133370  133370  @ArtMayers Я думала туса интересная))) а то на...      1\n",
       "84601    84601  рядом дышии, и не будем мы грустить заяя...\\nп...      1\n",
       "78178    78178  вот че она ржет надо мной=( http://t.co/dGP8la...      0\n",
       "49055    49055  А мы и сообщения не пишем:( #жизньболь http://...      0\n",
       "159239  159239        @Horan_69_ID иди полежи или таблетку выпей(      0"
      ]
     },
     "execution_count": 27,
     "metadata": {},
     "output_type": "execute_result"
    }
   ],
   "source": [
    "#датасет для валидации модели\n",
    "df_valid.head()"
   ]
  },
  {
   "cell_type": "code",
   "execution_count": 28,
   "metadata": {
    "colab": {
     "base_uri": "https://localhost:8080/"
    },
    "executionInfo": {
     "elapsed": 408,
     "status": "ok",
     "timestamp": 1670959743363,
     "user": {
      "displayName": "Maxim Gasilin",
      "userId": "15501735730920561422"
     },
     "user_tz": -180
    },
    "id": "HotvfyFLGu5o",
    "outputId": "08f58c23-fead-4966-f6c3-9842ff6b676f"
   },
   "outputs": [
    {
     "data": {
      "text/plain": [
       "1    27803\n",
       "0    26638\n",
       "Name: class, dtype: int64"
      ]
     },
     "execution_count": 28,
     "metadata": {},
     "output_type": "execute_result"
    }
   ],
   "source": [
    "df_valid['class'].value_counts()"
   ]
  },
  {
   "cell_type": "markdown",
   "metadata": {
    "id": "yhwMvNyPpaoZ"
   },
   "source": [
    "### 1. Предобработка данных <a id='section_1'></a>"
   ]
  },
  {
   "cell_type": "code",
   "execution_count": 29,
   "metadata": {
    "colab": {
     "base_uri": "https://localhost:8080/"
    },
    "executionInfo": {
     "elapsed": 589,
     "status": "ok",
     "timestamp": 1670959749443,
     "user": {
      "displayName": "Maxim Gasilin",
      "userId": "15501735730920561422"
     },
     "user_tz": -180
    },
    "id": "Tyha86PA8Lpc",
    "outputId": "ef5cb18a-a019-478a-f8d1-a5514683beba"
   },
   "outputs": [
    {
     "name": "stdout",
     "output_type": "stream",
     "text": [
      "{\"aren't\", 'hasn', \"hasn't\", 'through', 'only', 'me', 'aren', 'is', \"couldn't\", 'has', 'again', 'themselves', \"you'll\", 'mightn', 'haven', 'in', 'such', 'off', 'her', 'that', 'any', 'have', 'our', \"didn't\", 'between', 'nor', 'hadn', 'after', 'couldn', 'yours', 'shan', 'needn', 'shouldn', 'own', \"it's\", 'being', 'so', \"hadn't\", 'yourselves', 'him', 're', 'of', 'where', \"isn't\", 'at', 'other', 'she', 'few', 'should', 'o', 'had', 'but', 'below', 'up', \"mustn't\", 'above', 'than', 'during', 'by', 'or', 'now', 'did', 'don', \"shouldn't\", 'into', 'having', 'hers', 'most', \"haven't\", \"don't\", 'same', 'these', 'no', 'you', 'the', \"should've\", 'mustn', \"you'd\", 'their', 'until', 'won', 'whom', 'about', 'will', 'we', 'a', 'when', 'each', 'weren', 'himself', 'if', 'some', 'isn', 'them', 'll', 'wouldn', 'am', 'more', 'y', \"that'll\", 'too', 'doesn', 'be', 'he', 'been', 'were', \"you've\", 'are', 'ain', 'didn', 'who', 'how', \"mightn't\", \"needn't\", 'all', 'was', 'not', 'once', 'very', 'because', 'then', 'theirs', 'i', 'with', \"won't\", 'ours', 'your', 'what', 'further', \"doesn't\", 't', 'they', 's', 'here', 'against', 've', \"she's\", 'before', 'ma', 'out', \"shan't\", 'its', 'both', 'why', 'and', 'for', \"wouldn't\", 'just', 'yourself', 'his', 'there', 'doing', 'on', 'while', 'ourselves', 'down', 'as', 'itself', 'over', 'can', 'd', 'm', 'an', \"you're\", 'herself', 'this', 'wasn', 'my', 'which', 'under', 'does', 'from', 'myself', 'do', \"wasn't\", 'it', 'those', \"weren't\", 'to'}\n"
     ]
    }
   ],
   "source": [
    "#множество стоп-слов\n",
    "sw = set(stopwords.words('english'))\n",
    "print(sw)"
   ]
  },
  {
   "cell_type": "code",
   "execution_count": 30,
   "metadata": {
    "colab": {
     "base_uri": "https://localhost:8080/"
    },
    "executionInfo": {
     "elapsed": 3,
     "status": "ok",
     "timestamp": 1670959751702,
     "user": {
      "displayName": "Maxim Gasilin",
      "userId": "15501735730920561422"
     },
     "user_tz": -180
    },
    "id": "GZkDbfDepaoa",
    "outputId": "568fea8b-84c7-4951-9fc3-5b211a950963"
   },
   "outputs": [
    {
     "name": "stdout",
     "output_type": "stream",
     "text": [
      "{'@', '^', '%', '+', '{', '-', ')', '*', '}', '[', '>', '(', '.', '\"', ':', '~', '_', '&', '$', ']', '=', '|', \"'\", ',', '!', '#', '`', '?', '\\\\', '/', '<', ';'}\n"
     ]
    }
   ],
   "source": [
    "#пунктуация\n",
    "exclude = set(punctuation)\n",
    "print(exclude)"
   ]
  },
  {
   "cell_type": "code",
   "execution_count": 31,
   "metadata": {
    "colab": {
     "base_uri": "https://localhost:8080/"
    },
    "executionInfo": {
     "elapsed": 4,
     "status": "ok",
     "timestamp": 1670959821959,
     "user": {
      "displayName": "Maxim Gasilin",
      "userId": "15501735730920561422"
     },
     "user_tz": -180
    },
    "id": "NZk9Xc3M92Dt",
    "outputId": "1ed259e1-5fd2-471d-aea6-9c783e693f50"
   },
   "outputs": [
    {
     "name": "stderr",
     "output_type": "stream",
     "text": [
      "[nltk_data] Downloading package omw-1.4 to\n",
      "[nltk_data]     C:\\Users\\leva_\\AppData\\Roaming\\nltk_data...\n",
      "[nltk_data]   Package omw-1.4 is already up-to-date!\n"
     ]
    },
    {
     "data": {
      "text/plain": [
       "True"
      ]
     },
     "execution_count": 31,
     "metadata": {},
     "output_type": "execute_result"
    }
   ],
   "source": [
    "import nltk\n",
    "nltk.download('omw-1.4')"
   ]
  },
  {
   "cell_type": "code",
   "execution_count": 32,
   "metadata": {
    "colab": {
     "base_uri": "https://localhost:8080/"
    },
    "executionInfo": {
     "elapsed": 3203,
     "status": "ok",
     "timestamp": 1670959828288,
     "user": {
      "displayName": "Maxim Gasilin",
      "userId": "15501735730920561422"
     },
     "user_tz": -180
    },
    "id": "y88JOai1paoa",
    "outputId": "4680bb29-bc6f-4d65-ceb5-37a1a8aea328"
   },
   "outputs": [
    {
     "data": {
      "text/plain": [
       "('dog', 'say')"
      ]
     },
     "execution_count": 32,
     "metadata": {},
     "output_type": "execute_result"
    }
   ],
   "source": [
    "#морфологический анализ для английского текста\n",
    "lemmatizer = WordNetLemmatizer()\n",
    "\n",
    "#пример работы\n",
    "lemmatizer.lemmatize('dogs'), lemmatizer.lemmatize('says')"
   ]
  },
  {
   "cell_type": "code",
   "execution_count": 33,
   "metadata": {
    "executionInfo": {
     "elapsed": 420,
     "status": "ok",
     "timestamp": 1670959832855,
     "user": {
      "displayName": "Maxim Gasilin",
      "userId": "15501735730920561422"
     },
     "user_tz": -180
    },
    "id": "fY30apWtpaoa"
   },
   "outputs": [],
   "source": [
    "#функция преобразования текста\n",
    "def preprocess_text(txt):\n",
    "    #преобразуем входные данные в строку\n",
    "    txt = str(txt)\n",
    "    #удяляем знаки пунктуации\n",
    "    txt = \"\".join(c for c in txt if c not in exclude)\n",
    "    #приводим все к нижнему регистру\n",
    "    txt = txt.lower()\n",
    "    #лематизация\n",
    "    txt = [lemmatizer.lemmatize(w) for w in txt.split() if w not in sw]\n",
    "    return \" \".join(txt)"
   ]
  },
  {
   "cell_type": "code",
   "execution_count": 34,
   "metadata": {
    "colab": {
     "base_uri": "https://localhost:8080/"
    },
    "executionInfo": {
     "elapsed": 2374,
     "status": "ok",
     "timestamp": 1670959837953,
     "user": {
      "displayName": "Maxim Gasilin",
      "userId": "15501735730920561422"
     },
     "user_tz": -180
    },
    "id": "sa10uz28paob",
    "outputId": "cf785d3b-afcb-45be-e1ee-9c3dfcaaa26c"
   },
   "outputs": [
    {
     "name": "stderr",
     "output_type": "stream",
     "text": [
      "100%|██████████████████████████████████████████████████████████████████████████████████████████████████████████| 127026/127026 [00:04<00:00, 26176.00it/s]\n",
      "100%|████████████████████████████████████████████████████████████████████████████████████████████████████████████| 54441/54441 [00:02<00:00, 26048.25it/s]\n",
      "100%|████████████████████████████████████████████████████████████████████████████████████████████████████████████| 22684/22684 [00:00<00:00, 25804.00it/s]\n"
     ]
    }
   ],
   "source": [
    "#преобразование текста в данных\n",
    "from tqdm import tqdm \n",
    "tqdm.pandas()\n",
    "\n",
    "df_train['text'] = df_train['text'].progress_apply(preprocess_text)\n",
    "df_valid['text'] = df_valid['text'].progress_apply(preprocess_text)\n",
    "data_test['text'] = data_test['text'].progress_apply(preprocess_text)"
   ]
  },
  {
   "cell_type": "code",
   "execution_count": 35,
   "metadata": {
    "executionInfo": {
     "elapsed": 416,
     "status": "ok",
     "timestamp": 1670959842006,
     "user": {
      "displayName": "Maxim Gasilin",
      "userId": "15501735730920561422"
     },
     "user_tz": -180
    },
    "id": "Pr4tKbzvpaob"
   },
   "outputs": [],
   "source": [
    "#соединение всех обучающих данных в одну строку и приведение к нижнему регистру\n",
    "train_corpus = \" \".join(df_train[\"text\"])\n",
    "train_corpus = train_corpus.lower()"
   ]
  },
  {
   "cell_type": "code",
   "execution_count": 36,
   "metadata": {
    "colab": {
     "base_uri": "https://localhost:8080/"
    },
    "executionInfo": {
     "elapsed": 853,
     "status": "ok",
     "timestamp": 1670959844141,
     "user": {
      "displayName": "Maxim Gasilin",
      "userId": "15501735730920561422"
     },
     "user_tz": -180
    },
    "id": "c-jwwCYiFNb9",
    "outputId": "647a22a1-7518-4c9f-e711-4c7bac63578a"
   },
   "outputs": [
    {
     "data": {
      "text/plain": [
       "['вот', 'капец', 'xamvz', 'вышел', 'а', 'я', 'его', 'ещё', 'ни', 'разу']"
      ]
     },
     "execution_count": 36,
     "metadata": {},
     "output_type": "execute_result"
    }
   ],
   "source": [
    "#токенезация (разбиваем строку на слова)\n",
    "tokens = word_tokenize(train_corpus)\n",
    "tokens[:10]"
   ]
  },
  {
   "cell_type": "code",
   "execution_count": 37,
   "metadata": {
    "colab": {
     "base_uri": "https://localhost:8080/"
    },
    "executionInfo": {
     "elapsed": 4072,
     "status": "ok",
     "timestamp": 1670959849895,
     "user": {
      "displayName": "Maxim Gasilin",
      "userId": "15501735730920561422"
     },
     "user_tz": -180
    },
    "id": "M9Z8C3Q6paob",
    "outputId": "388cf26a-b02f-417d-bcac-f5e01cc27d64"
   },
   "outputs": [
    {
     "name": "stderr",
     "output_type": "stream",
     "text": [
      "IOPub data rate exceeded.\n",
      "The notebook server will temporarily stop sending output\n",
      "to the client in order to avoid crashing it.\n",
      "To change this limit, set the config variable\n",
      "`--NotebookApp.iopub_data_rate_limit`.\n",
      "\n",
      "Current values:\n",
      "NotebookApp.iopub_data_rate_limit=1000000.0 (bytes/sec)\n",
      "NotebookApp.rate_limit_window=3.0 (secs)\n",
      "\n"
     ]
    }
   ],
   "source": [
    "#отфильтруем токены (проверяем, чтобы все символы были или буквы или цифры)\n",
    "tokens_filtered = [word for word in tokens if word.isalnum()]\n",
    "print(tokens_filtered)"
   ]
  },
  {
   "cell_type": "code",
   "execution_count": 38,
   "metadata": {
    "colab": {
     "base_uri": "https://localhost:8080/"
    },
    "executionInfo": {
     "elapsed": 412,
     "status": "ok",
     "timestamp": 1670959854003,
     "user": {
      "displayName": "Maxim Gasilin",
      "userId": "15501735730920561422"
     },
     "user_tz": -180
    },
    "id": "_qF78I5Bpaob",
    "outputId": "97d4d8c9-1b7d-4011-9f2d-dcaaf97bee95"
   },
   "outputs": [
    {
     "data": {
      "text/plain": [
       "FreqDist({'не': 41179, 'я': 34610, 'и': 32737, 'в': 31376, 'rt': 21279, 'на': 20976, 'а': 17280, 'что': 16734, 'с': 16069, 'у': 12112, ...})"
      ]
     },
     "execution_count": 38,
     "metadata": {},
     "output_type": "execute_result"
    }
   ],
   "source": [
    "#соберем max_words наиболее частых токенов\n",
    "\n",
    "#частотное распределение: как часто встречается каждый токен в tokens_filtered\n",
    "dist = FreqDist(tokens_filtered)\n",
    "dist"
   ]
  },
  {
   "cell_type": "code",
   "execution_count": 39,
   "metadata": {
    "colab": {
     "base_uri": "https://localhost:8080/"
    },
    "executionInfo": {
     "elapsed": 4,
     "status": "ok",
     "timestamp": 1670959856542,
     "user": {
      "displayName": "Maxim Gasilin",
      "userId": "15501735730920561422"
     },
     "user_tz": -180
    },
    "id": "3QfxYwnC8Lpf",
    "outputId": "cdbc7a77-cf56-4ab1-c0f9-189773819921"
   },
   "outputs": [
    {
     "data": {
      "text/plain": [
       "(1999, ['не', 'я', 'и', 'в', 'rt', 'на', 'а', 'что', 'с', 'у'])"
      ]
     },
     "execution_count": 39,
     "metadata": {},
     "output_type": "execute_result"
    }
   ],
   "source": [
    "#берем max_words наиболее часто встречающихся токенов\n",
    "#(создаем упорядоченные пары (слово, частота) в количестве max_words штук и берем первые элементы пар)\n",
    "tokens_filtered_top = [pair[0] for pair in dist.most_common(max_words-1)]  # -1 - padding\n",
    "len(tokens_filtered_top), tokens_filtered_top[:10]"
   ]
  },
  {
   "cell_type": "code",
   "execution_count": 40,
   "metadata": {
    "colab": {
     "base_uri": "https://localhost:8080/"
    },
    "executionInfo": {
     "elapsed": 6,
     "status": "ok",
     "timestamp": 1670959861770,
     "user": {
      "displayName": "Maxim Gasilin",
      "userId": "15501735730920561422"
     },
     "user_tz": -180
    },
    "id": "Ml324v6Epaob",
    "outputId": "34127b60-9055-434f-d815-e7b1d6f4f9d9"
   },
   "outputs": [
    {
     "data": {
      "text/plain": [
       "{'не': 0,\n",
       " 'я': 1,\n",
       " 'и': 2,\n",
       " 'в': 3,\n",
       " 'rt': 4,\n",
       " 'на': 5,\n",
       " 'а': 6,\n",
       " 'что': 7,\n",
       " 'с': 8,\n",
       " 'у': 9,\n",
       " 'меня': 10,\n",
       " 'как': 11,\n",
       " 'мне': 12,\n",
       " 'это': 13,\n",
       " 'так': 14,\n",
       " 'все': 15,\n",
       " 'ты': 16,\n",
       " 'но': 17,\n",
       " 'по': 18,\n",
       " 'ну': 19,\n",
       " 'то': 20,\n",
       " 'уже': 21,\n",
       " 'за': 22,\n",
       " 'же': 23,\n",
       " 'вот': 24,\n",
       " 'только': 25,\n",
       " 'сегодня': 26,\n",
       " 'да': 27,\n",
       " 'еще': 28,\n",
       " 'бы': 29,\n",
       " 'нет': 30,\n",
       " 'очень': 31,\n",
       " 'тебя': 32,\n",
       " 'хочу': 33,\n",
       " 'к': 34,\n",
       " 'когда': 35,\n",
       " 'день': 36,\n",
       " 'он': 37,\n",
       " 'просто': 38,\n",
       " 'мы': 39,\n",
       " 'будет': 40,\n",
       " 'от': 41,\n",
       " 'было': 42,\n",
       " 'тебе': 43,\n",
       " 'из': 44,\n",
       " 'теперь': 45,\n",
       " 'даже': 46,\n",
       " 'надо': 47,\n",
       " 'тоже': 48,\n",
       " 'если': 49,\n",
       " 'завтра': 50,\n",
       " 'о': 51,\n",
       " 'до': 52,\n",
       " 'там': 53,\n",
       " 'его': 54,\n",
       " 'есть': 55,\n",
       " 'вообще': 56,\n",
       " 'для': 57,\n",
       " 'сейчас': 58,\n",
       " 'нас': 59,\n",
       " 'всё': 60,\n",
       " 'она': 61,\n",
       " 'могу': 62,\n",
       " 'буду': 63,\n",
       " 'кто': 64,\n",
       " 'спасибо': 65,\n",
       " 'люблю': 66,\n",
       " 'почему': 67,\n",
       " 'тут': 68,\n",
       " 'вы': 69,\n",
       " 'блин': 70,\n",
       " 'без': 71,\n",
       " 'они': 72,\n",
       " 'или': 73,\n",
       " 'знаю': 74,\n",
       " 'раз': 75,\n",
       " 'со': 76,\n",
       " '3': 77,\n",
       " 'мой': 78,\n",
       " 'больше': 79,\n",
       " 'про': 80,\n",
       " 'ничего': 81,\n",
       " 'всегда': 82,\n",
       " '2': 83,\n",
       " 'всем': 84,\n",
       " 'можно': 85,\n",
       " 'может': 86,\n",
       " 'чем': 87,\n",
       " 'хорошо': 88,\n",
       " 'был': 89,\n",
       " 'год': 90,\n",
       " 'дома': 91,\n",
       " 'новый': 92,\n",
       " 'ещё': 93,\n",
       " 'такой': 94,\n",
       " 'потом': 95,\n",
       " 'спать': 96,\n",
       " 'их': 97,\n",
       " 'время': 98,\n",
       " 'этот': 99,\n",
       " 'после': 100,\n",
       " 'ни': 101,\n",
       " 'опять': 102,\n",
       " 'моя': 103,\n",
       " 'делать': 104,\n",
       " 'была': 105,\n",
       " 'чтобы': 106,\n",
       " 'себя': 107,\n",
       " 'быть': 108,\n",
       " 'где': 109,\n",
       " 'вас': 110,\n",
       " 'пока': 111,\n",
       " 'всех': 112,\n",
       " 'хочется': 113,\n",
       " 'много': 114,\n",
       " 'лучше': 115,\n",
       " 'себе': 116,\n",
       " 'хоть': 117,\n",
       " 'этого': 118,\n",
       " 'такое': 119,\n",
       " 'чтото': 120,\n",
       " 'такая': 121,\n",
       " 'всего': 122,\n",
       " 'один': 123,\n",
       " 'такие': 124,\n",
       " 'вчера': 125,\n",
       " 'скоро': 126,\n",
       " 'ее': 127,\n",
       " 'настроение': 128,\n",
       " 'совсем': 129,\n",
       " 'вам': 130,\n",
       " 'через': 131,\n",
       " 'под': 132,\n",
       " 'нужно': 133,\n",
       " 'мои': 134,\n",
       " 'нам': 135,\n",
       " 'мама': 136,\n",
       " 'дня': 137,\n",
       " 'плохо': 138,\n",
       " 'во': 139,\n",
       " 'этом': 140,\n",
       " 'оо': 141,\n",
       " 'какой': 142,\n",
       " 'никто': 143,\n",
       " 'конечно': 144,\n",
       " 'утро': 145,\n",
       " 'ли': 146,\n",
       " 'него': 147,\n",
       " 'никогда': 148,\n",
       " 'потому': 149,\n",
       " 'ведь': 150,\n",
       " 'домой': 151,\n",
       " 'хотя': 152,\n",
       " 'люди': 153,\n",
       " 'жизнь': 154,\n",
       " 'нг': 155,\n",
       " '5': 156,\n",
       " 'года': 157,\n",
       " 'равно': 158,\n",
       " 'тогда': 159,\n",
       " 'весь': 160,\n",
       " 'утра': 161,\n",
       " 'того': 162,\n",
       " 'сижу': 163,\n",
       " 'жаль': 164,\n",
       " 'жизни': 165,\n",
       " 'думаю': 166,\n",
       " 'мной': 167,\n",
       " 'изза': 168,\n",
       " 'бля': 169,\n",
       " '4': 170,\n",
       " 'ахах': 171,\n",
       " 'чего': 172,\n",
       " 'одна': 173,\n",
       " 'школу': 174,\n",
       " 'ж': 175,\n",
       " 'нравится': 176,\n",
       " 'смотреть': 177,\n",
       " 'вроде': 178,\n",
       " 'эти': 179,\n",
       " 'давно': 180,\n",
       " 'человек': 181,\n",
       " 'снова': 182,\n",
       " 'кажется': 183,\n",
       " 'правда': 184,\n",
       " 'два': 185,\n",
       " 'моей': 186,\n",
       " 'болит': 187,\n",
       " 'кого': 188,\n",
       " 'сразу': 189,\n",
       " 'почти': 190,\n",
       " 'пойду': 191,\n",
       " 'ему': 192,\n",
       " 'ахаха': 193,\n",
       " 'идти': 194,\n",
       " 'привет': 195,\n",
       " 'надеюсь': 196,\n",
       " 'точно': 197,\n",
       " 'круто': 198,\n",
       " 'лет': 199,\n",
       " 'уж': 200,\n",
       " 'них': 201,\n",
       " 'скучаю': 202,\n",
       " '1': 203,\n",
       " '10': 204,\n",
       " 'тобой': 205,\n",
       " 'были': 206,\n",
       " 'часа': 207,\n",
       " 'хотела': 208,\n",
       " 'людей': 209,\n",
       " 'первый': 210,\n",
       " 'х': 211,\n",
       " 'понимаю': 212,\n",
       " 'кстати': 213,\n",
       " 'сильно': 214,\n",
       " 'доброе': 215,\n",
       " 'нельзя': 216,\n",
       " 'ночь': 217,\n",
       " 'самое': 218,\n",
       " 'фильм': 219,\n",
       " 'всю': 220,\n",
       " 'самый': 221,\n",
       " 'этой': 222,\n",
       " 'ночи': 223,\n",
       " 'зачем': 224,\n",
       " 'както': 225,\n",
       " 'столько': 226,\n",
       " 'каждый': 227,\n",
       " 'сделать': 228,\n",
       " 'эту': 229,\n",
       " 'сколько': 230,\n",
       " 'прям': 231,\n",
       " 'раньше': 232,\n",
       " 'мало': 233,\n",
       " 'вечер': 234,\n",
       " 'сама': 235,\n",
       " 'наверное': 236,\n",
       " 'ладно': 237,\n",
       " 'перед': 238,\n",
       " 'эта': 239,\n",
       " 'думала': 240,\n",
       " 'рождения': 241,\n",
       " 'её': 242,\n",
       " 'будем': 243,\n",
       " 'че': 244,\n",
       " 'будут': 245,\n",
       " 'вк': 246,\n",
       " 'та': 247,\n",
       " 'тот': 248,\n",
       " 'писать': 249,\n",
       " 'времени': 250,\n",
       " 'смотрю': 251,\n",
       " 'сам': 252,\n",
       " 'немного': 253,\n",
       " 'том': 254,\n",
       " 'щас': 255,\n",
       " 'минут': 256,\n",
       " 'кому': 257,\n",
       " 'который': 258,\n",
       " 'жалко': 259,\n",
       " 'свой': 260,\n",
       " 'ей': 261,\n",
       " 'школе': 262,\n",
       " 'пиздец': 263,\n",
       " 'об': 264,\n",
       " 'такого': 265,\n",
       " 'нормально': 266,\n",
       " 'настроения': 267,\n",
       " 'улице': 268,\n",
       " 'интересно': 269,\n",
       " 'жду': 270,\n",
       " 'блять': 271,\n",
       " 'какая': 272,\n",
       " 'скучно': 273,\n",
       " 'куда': 274,\n",
       " 'сказала': 275,\n",
       " 'значит': 276,\n",
       " 'тем': 277,\n",
       " 'приятно': 278,\n",
       " 'свою': 279,\n",
       " 'ужасно': 280,\n",
       " 'чуть': 281,\n",
       " 'ктото': 282,\n",
       " 'друг': 283,\n",
       " 'снег': 284,\n",
       " 'ахахах': 285,\n",
       " 'ней': 286,\n",
       " 'осталось': 287,\n",
       " 'которые': 288,\n",
       " 'второй': 289,\n",
       " 'при': 290,\n",
       " 'хочет': 291,\n",
       " 'пришла': 292,\n",
       " 'ибо': 293,\n",
       " '8': 294,\n",
       " 'зато': 295,\n",
       " 'долго': 296,\n",
       " 'году': 297,\n",
       " 'работу': 298,\n",
       " 'фото': 299,\n",
       " 'давай': 300,\n",
       " 'днем': 301,\n",
       " 'три': 302,\n",
       " 'вместе': 303,\n",
       " '6': 304,\n",
       " 'чтоб': 305,\n",
       " 'чувствую': 306,\n",
       " 'иногда': 307,\n",
       " 'ним': 308,\n",
       " 'слишком': 309,\n",
       " 'именно': 310,\n",
       " 'посмотреть': 311,\n",
       " 'ко': 312,\n",
       " 'оно': 313,\n",
       " 'помню': 314,\n",
       " 'ненавижу': 315,\n",
       " 'последний': 316,\n",
       " 'dd': 317,\n",
       " 'обидно': 318,\n",
       " 'кем': 319,\n",
       " 'нее': 320,\n",
       " 'телефон': 321,\n",
       " 'эх': 322,\n",
       " 'часов': 323,\n",
       " 'ой': 324,\n",
       " 'человека': 325,\n",
       " 'таки': 326,\n",
       " 'неделю': 327,\n",
       " 'боюсь': 328,\n",
       " 'твит': 329,\n",
       " 'главное': 330,\n",
       " 'уроки': 331,\n",
       " 'быстро': 332,\n",
       " 'сказать': 333,\n",
       " 'жить': 334,\n",
       " 'никак': 335,\n",
       " 'друзья': 336,\n",
       " 'бывает': 337,\n",
       " 'им': 338,\n",
       " 'твиттер': 339,\n",
       " 'стоит': 340,\n",
       " 'пусть': 341,\n",
       " 'голова': 342,\n",
       " 'ага': 343,\n",
       " 'видео': 344,\n",
       " 'говорит': 345,\n",
       " 'одной': 346,\n",
       " 'утром': 347,\n",
       " 'своей': 348,\n",
       " 'недели': 349,\n",
       " 'норм': 350,\n",
       " 'найти': 351,\n",
       " '7': 352,\n",
       " 'знает': 353,\n",
       " 'хотел': 354,\n",
       " 'еду': 355,\n",
       " 'сказал': 356,\n",
       " 'лишь': 357,\n",
       " 'нету': 358,\n",
       " 'б': 359,\n",
       " 'час': 360,\n",
       " 'пошла': 361,\n",
       " 'какие': 362,\n",
       " 'отлично': 363,\n",
       " 'моего': 364,\n",
       " 'поняла': 365,\n",
       " 'дней': 366,\n",
       " 'забыла': 367,\n",
       " '9': 368,\n",
       " 'свои': 369,\n",
       " 'назад': 370,\n",
       " 'работает': 371,\n",
       " 'хороший': 372,\n",
       " 'чувство': 373,\n",
       " 'этим': 374,\n",
       " 'реально': 375,\n",
       " 'читать': 376,\n",
       " 'дела': 377,\n",
       " 'знаешь': 378,\n",
       " 'вся': 379,\n",
       " 'рядом': 380,\n",
       " 'будешь': 381,\n",
       " 'походу': 382,\n",
       " 'пор': 383,\n",
       " 'папа': 384,\n",
       " 'здесь': 385,\n",
       " 'туда': 386,\n",
       " 'сидеть': 387,\n",
       " 'целый': 388,\n",
       " 'какойто': 389,\n",
       " 'пару': 390,\n",
       " 'пора': 391,\n",
       " 'любимый': 392,\n",
       " 'говорят': 393,\n",
       " 'поэтому': 394,\n",
       " 'грустно': 395,\n",
       " 'весело': 396,\n",
       " 'особенно': 397,\n",
       " 'мое': 398,\n",
       " 'стало': 399,\n",
       " 'капец': 400,\n",
       " 'ждать': 401,\n",
       " 'пол': 402,\n",
       " 'пожалуйста': 403,\n",
       " 'скорее': 404,\n",
       " 'хватает': 405,\n",
       " 'др': 406,\n",
       " 'сука': 407,\n",
       " 'зима': 408,\n",
       " 'ох': 409,\n",
       " 'твой': 410,\n",
       " 'момент': 411,\n",
       " 'холодно': 412,\n",
       " 'нового': 413,\n",
       " 'хочешь': 414,\n",
       " 'те': 415,\n",
       " 'лень': 416,\n",
       " 'дальше': 417,\n",
       " 'мою': 418,\n",
       " 'любовь': 419,\n",
       " 'видела': 420,\n",
       " 'страшно': 421,\n",
       " '15': 422,\n",
       " 'сих': 423,\n",
       " 'более': 424,\n",
       " 'ехать': 425,\n",
       " 'боже': 426,\n",
       " 'гулять': 427,\n",
       " 'євромайдан': 428,\n",
       " 'написать': 429,\n",
       " 'работе': 430,\n",
       " 'сделала': 431,\n",
       " 'выходные': 432,\n",
       " 'вижу': 433,\n",
       " 'з': 434,\n",
       " 'купила': 435,\n",
       " 'удачи': 436,\n",
       " 'тви': 437,\n",
       " 'обожаю': 438,\n",
       " 'таких': 439,\n",
       " 'самом': 440,\n",
       " 'две': 441,\n",
       " 'снега': 442,\n",
       " 'погода': 443,\n",
       " 'придется': 444,\n",
       " 'рано': 445,\n",
       " 'oo': 446,\n",
       " 'своих': 447,\n",
       " 'одного': 448,\n",
       " 'наш': 449,\n",
       " 'прости': 450,\n",
       " 'вопрос': 451,\n",
       " 'будто': 452,\n",
       " 'видимо': 453,\n",
       " 'нашла': 454,\n",
       " 'получается': 455,\n",
       " 'ааа': 456,\n",
       " 'работать': 457,\n",
       " '20': 458,\n",
       " 'обычно': 459,\n",
       " 'рада': 460,\n",
       " 'нечего': 461,\n",
       " 'над': 462,\n",
       " 'ходить': 463,\n",
       " 'короче': 464,\n",
       " 'каникулы': 465,\n",
       " 'самая': 466,\n",
       " 'аж': 467,\n",
       " 'дело': 468,\n",
       " 'нужна': 469,\n",
       " 'подарок': 470,\n",
       " 'иду': 471,\n",
       " 'мир': 472,\n",
       " 'деньги': 473,\n",
       " 'одно': 474,\n",
       " 'кроме': 475,\n",
       " 'написала': 476,\n",
       " 'руки': 477,\n",
       " 'моих': 478,\n",
       " 'понял': 479,\n",
       " 'место': 480,\n",
       " 'глаза': 481,\n",
       " 'такую': 482,\n",
       " 'похоже': 483,\n",
       " 'понравилось': 484,\n",
       " 'понедельник': 485,\n",
       " 'нужен': 486,\n",
       " 'другой': 487,\n",
       " 'нибудь': 488,\n",
       " 'больно': 489,\n",
       " 'типа': 490,\n",
       " '30': 491,\n",
       " 'учить': 492,\n",
       " 'кино': 493,\n",
       " 'парень': 494,\n",
       " 'вместо': 495,\n",
       " 'оказывается': 496,\n",
       " 'денег': 497,\n",
       " 'купить': 498,\n",
       " 'наверно': 499,\n",
       " 'работы': 500,\n",
       " 'думал': 501,\n",
       " 'фотки': 502,\n",
       " 'решила': 503,\n",
       " 'месяц': 504,\n",
       " 'идет': 505,\n",
       " 'кофе': 506,\n",
       " 'ахахаха': 507,\n",
       " 'правильно': 508,\n",
       " 'вечера': 509,\n",
       " 'наконецто': 510,\n",
       " 'лента': 511,\n",
       " 'россии': 512,\n",
       " 'хд': 513,\n",
       " 'сон': 514,\n",
       " 'несколько': 515,\n",
       " 'пишу': 516,\n",
       " 'экзамен': 517,\n",
       " '12': 518,\n",
       " 'ночью': 519,\n",
       " 'голос': 520,\n",
       " 'говорить': 521,\n",
       " 'наконец': 522,\n",
       " 'чо': 523,\n",
       " 'деле': 524,\n",
       " 'вечером': 525,\n",
       " 'желание': 526,\n",
       " 'боль': 527,\n",
       " 'смогу': 528,\n",
       " 'самого': 529,\n",
       " 'вставать': 530,\n",
       " 'устала': 531,\n",
       " 'либо': 532,\n",
       " 'честно': 533,\n",
       " 'любит': 534,\n",
       " 'постоянно': 535,\n",
       " 'меньше': 536,\n",
       " 'часто': 537,\n",
       " '11': 538,\n",
       " 'сначала': 539,\n",
       " 'хуже': 540,\n",
       " 'наши': 541,\n",
       " 'чай': 542,\n",
       " 'начала': 543,\n",
       " 'хорошая': 544,\n",
       " 'раза': 545,\n",
       " 'ок': 546,\n",
       " 'ноги': 547,\n",
       " 'проснулась': 548,\n",
       " 'собой': 549,\n",
       " 'класс': 550,\n",
       " 'делаю': 551,\n",
       " 'ddd': 552,\n",
       " 'бесит': 553,\n",
       " 'могла': 554,\n",
       " 'посмотрела': 555,\n",
       " 'должна': 556,\n",
       " 'хватит': 557,\n",
       " 'друзей': 558,\n",
       " 'декабря': 559,\n",
       " 'интернет': 560,\n",
       " 'таким': 561,\n",
       " 'соскучилась': 562,\n",
       " 'своего': 563,\n",
       " 'ужас': 564,\n",
       " 'друга': 565,\n",
       " 'пойти': 566,\n",
       " 'песни': 567,\n",
       " 'ура': 568,\n",
       " 'хорошего': 569,\n",
       " 'действительно': 570,\n",
       " 'печально': 571,\n",
       " 'можешь': 572,\n",
       " 'сказали': 573,\n",
       " 'самые': 574,\n",
       " 'спокойной': 575,\n",
       " 'сделал': 576,\n",
       " 'этих': 577,\n",
       " 'твои': 578,\n",
       " 'сердце': 579,\n",
       " 'забыл': 580,\n",
       " 'голову': 581,\n",
       " 'вдруг': 582,\n",
       " 'сезон': 583,\n",
       " 'пишет': 584,\n",
       " 'смешно': 585,\n",
       " 'стал': 586,\n",
       " 'ребята': 587,\n",
       " 'любимая': 588,\n",
       " 'своим': 589,\n",
       " 'девушка': 590,\n",
       " 'поздравляю': 591,\n",
       " 'твиттере': 592,\n",
       " 'ребят': 593,\n",
       " 'слова': 594,\n",
       " 'счастья': 595,\n",
       " 'могут': 596,\n",
       " 'последнее': 597,\n",
       " 'видел': 598,\n",
       " 'концерт': 599,\n",
       " 'читаю': 600,\n",
       " 'этому': 601,\n",
       " 'черт': 602,\n",
       " 'тех': 603,\n",
       " 'играть': 604,\n",
       " 'музыку': 605,\n",
       " 'получится': 606,\n",
       " 'знала': 607,\n",
       " 'даа': 608,\n",
       " 'скучать': 609,\n",
       " 'заболела': 610,\n",
       " 'счастье': 611,\n",
       " 'купил': 612,\n",
       " 'нашей': 613,\n",
       " 'зря': 614,\n",
       " 'обратно': 615,\n",
       " 'субботу': 616,\n",
       " 'лучший': 617,\n",
       " 'понятно': 618,\n",
       " 'чувак': 619,\n",
       " 'супер': 620,\n",
       " 'ваще': 621,\n",
       " 'серия': 622,\n",
       " 'написал': 623,\n",
       " 'конец': 624,\n",
       " 'одну': 625,\n",
       " 'лето': 626,\n",
       " 'печаль': 627,\n",
       " 'стала': 628,\n",
       " 'должен': 629,\n",
       " 'слово': 630,\n",
       " 'последняя': 631,\n",
       " 'мысли': 632,\n",
       " 'голове': 633,\n",
       " 'никого': 634,\n",
       " 'брат': 635,\n",
       " 'сериал': 636,\n",
       " 'иди': 637,\n",
       " 'настолько': 638,\n",
       " 'слушаю': 639,\n",
       " 'умею': 640,\n",
       " 'обязательно': 641,\n",
       " 'снов': 642,\n",
       " 'песня': 643,\n",
       " '100': 644,\n",
       " 'сожалению': 645,\n",
       " 'новости': 646,\n",
       " 'смотрела': 647,\n",
       " 'безумно': 648,\n",
       " 'вспомнила': 649,\n",
       " 'месте': 650,\n",
       " 'подруга': 651,\n",
       " 'любви': 652,\n",
       " 'родители': 653,\n",
       " 'говорю': 654,\n",
       " 'город': 655,\n",
       " 'моим': 656,\n",
       " 'какое': 657,\n",
       " 'прямо': 658,\n",
       " 'пить': 659,\n",
       " 'увидела': 660,\n",
       " 'истории': 661,\n",
       " 'праздник': 662,\n",
       " 'школа': 663,\n",
       " 'ними': 664,\n",
       " 'пришел': 665,\n",
       " 'работа': 666,\n",
       " 'странно': 667,\n",
       " 'везде': 668,\n",
       " 'лох': 669,\n",
       " 'девочка': 670,\n",
       " 'часть': 671,\n",
       " 'школы': 672,\n",
       " 'говно': 673,\n",
       " 'молодец': 674,\n",
       " 'дети': 675,\n",
       " 'лол': 676,\n",
       " 'видно': 677,\n",
       " 'кот': 678,\n",
       " 'ради': 679,\n",
       " 'неё': 680,\n",
       " 'дом': 681,\n",
       " 'л': 682,\n",
       " 'умер': 683,\n",
       " 'никому': 684,\n",
       " 'крутой': 685,\n",
       " 'недавно': 686,\n",
       " 'большой': 687,\n",
       " 'поздно': 688,\n",
       " 'метро': 689,\n",
       " 'взять': 690,\n",
       " 'новогоднего': 691,\n",
       " 'follow': 692,\n",
       " 'решил': 693,\n",
       " 'lt3': 694,\n",
       " 'сходить': 695,\n",
       " 'отличный': 696,\n",
       " 'получилось': 697,\n",
       " 'подарки': 698,\n",
       " 'шк': 699,\n",
       " 'последние': 700,\n",
       " 'болеть': 701,\n",
       " 'хотелось': 702,\n",
       " 'оч': 703,\n",
       " 'далеко': 704,\n",
       " 'никуда': 705,\n",
       " 'пришлось': 706,\n",
       " 'дождь': 707,\n",
       " 'радует': 708,\n",
       " 'вами': 709,\n",
       " 'знать': 710,\n",
       " 'стыдно': 711,\n",
       " 'желаю': 712,\n",
       " 'офигенный': 713,\n",
       " 'пары': 714,\n",
       " 'дни': 715,\n",
       " 'нахуй': 716,\n",
       " 'песню': 717,\n",
       " 'нашел': 718,\n",
       " 'успела': 719,\n",
       " 'хаха': 720,\n",
       " 'мило': 721,\n",
       " 'сложно': 722,\n",
       " 'делаешь': 723,\n",
       " 'классно': 724,\n",
       " 'волосы': 725,\n",
       " 'аааа': 726,\n",
       " 'лицо': 727,\n",
       " 'увидеть': 728,\n",
       " 'tukvasociopat': 729,\n",
       " 'возможно': 730,\n",
       " 'каток': 731,\n",
       " '13': 732,\n",
       " 'общем': 733,\n",
       " 'мороз': 734,\n",
       " 'новым': 735,\n",
       " 'девочки': 736,\n",
       " 'новые': 737,\n",
       " 'девушки': 738,\n",
       " 'ооо': 739,\n",
       " 'шоке': 740,\n",
       " 'дааа': 741,\n",
       " 'всетаки': 742,\n",
       " 'сами': 743,\n",
       " 'первая': 744,\n",
       " 'одни': 745,\n",
       " 'против': 746,\n",
       " 'москве': 747,\n",
       " 'понять': 748,\n",
       " 'температура': 749,\n",
       " 'танцы': 750,\n",
       " 'пишут': 751,\n",
       " 'горло': 752,\n",
       " 'сидим': 753,\n",
       " 'зачет': 754,\n",
       " 'большое': 755,\n",
       " 'неделя': 756,\n",
       " 'почемуто': 757,\n",
       " 'маме': 758,\n",
       " 'какого': 759,\n",
       " 'своими': 760,\n",
       " 'ума': 761,\n",
       " 'слушать': 762,\n",
       " 'ретвит': 763,\n",
       " 'любимые': 764,\n",
       " 'между': 765,\n",
       " 'q': 766,\n",
       " 'начал': 767,\n",
       " 'вещи': 768,\n",
       " 'откуда': 769,\n",
       " 'ктонибудь': 770,\n",
       " 'пошли': 771,\n",
       " 'когото': 772,\n",
       " 'жуйк': 773,\n",
       " 'хорошее': 774,\n",
       " 'месяца': 775,\n",
       " 'проблемы': 776,\n",
       " 'твоя': 777,\n",
       " 'которая': 778,\n",
       " 'пятница': 779,\n",
       " 'пошел': 780,\n",
       " 'плакать': 781,\n",
       " 'мать': 782,\n",
       " 'пятницу': 783,\n",
       " 'сессия': 784,\n",
       " 'вечно': 785,\n",
       " 'любить': 786,\n",
       " 'красиво': 787,\n",
       " 'городе': 788,\n",
       " 'мог': 789,\n",
       " 'например': 790,\n",
       " 'гдето': 791,\n",
       " 'любишь': 792,\n",
       " 'давайте': 793,\n",
       " 'видеть': 794,\n",
       " 'хотят': 795,\n",
       " 'история': 796,\n",
       " 'узнала': 797,\n",
       " 'россия': 798,\n",
       " 'ощущение': 799,\n",
       " 'итоге': 800,\n",
       " 'сюда': 801,\n",
       " 'музыка': 802,\n",
       " 'добра': 803,\n",
       " 'происходит': 804,\n",
       " 'вокруг': 805,\n",
       " 'верю': 806,\n",
       " 'днём': 807,\n",
       " 'тупо': 808,\n",
       " 'забыть': 809,\n",
       " 'всей': 810,\n",
       " 'моё': 811,\n",
       " 'дали': 812,\n",
       " 'тт': 813,\n",
       " 'жизньболь': 814,\n",
       " 'делает': 815,\n",
       " 'какаято': 816,\n",
       " 'случайно': 817,\n",
       " 'такими': 818,\n",
       " 'начинается': 819,\n",
       " 'ах': 820,\n",
       " 'тяжело': 821,\n",
       " 'сидит': 822,\n",
       " 'пять': 823,\n",
       " 'подряд': 824,\n",
       " 'выздоравливай': 825,\n",
       " 'классе': 826,\n",
       " 'поеду': 827,\n",
       " 'доброго': 828,\n",
       " 'самой': 829,\n",
       " 'уснуть': 830,\n",
       " 'хорошие': 831,\n",
       " 'народ': 832,\n",
       " 'надоело': 833,\n",
       " 'тому': 834,\n",
       " 'скажу': 835,\n",
       " 'ответ': 836,\n",
       " 'пздц': 837,\n",
       " 'понимаешь': 838,\n",
       " 'идиот': 839,\n",
       " 'ща': 840,\n",
       " 'нь': 841,\n",
       " 'конца': 842,\n",
       " 'нами': 843,\n",
       " 'прошло': 844,\n",
       " 'письмо': 845,\n",
       " 'называется': 846,\n",
       " 'увы': 847,\n",
       " 'ппц': 848,\n",
       " 'фу': 849,\n",
       " 'будь': 850,\n",
       " 'сделали': 851,\n",
       " 'говорила': 852,\n",
       " 'мозг': 853,\n",
       " 'улицу': 854,\n",
       " 'красивая': 855,\n",
       " 'кушать': 856,\n",
       " 'урок': 857,\n",
       " 'любят': 858,\n",
       " 'сплю': 859,\n",
       " 'спокойно': 860,\n",
       " 'гости': 861,\n",
       " 'номер': 862,\n",
       " 'конце': 863,\n",
       " 'людям': 864,\n",
       " 'наша': 865,\n",
       " 'учиться': 866,\n",
       " 'нем': 867,\n",
       " 'рад': 868,\n",
       " 'одном': 869,\n",
       " 'шо': 870,\n",
       " 'выходных': 871,\n",
       " 'болею': 872,\n",
       " 'русский': 873,\n",
       " 'января': 874,\n",
       " 'милый': 875,\n",
       " 'впервые': 876,\n",
       " 'игры': 877,\n",
       " 'прошел': 878,\n",
       " 'p': 879,\n",
       " '111213': 880,\n",
       " 'плачу': 881,\n",
       " 'моем': 882,\n",
       " 'дай': 883,\n",
       " 'готова': 884,\n",
       " 'имя': 885,\n",
       " 'двух': 886,\n",
       " 'тож': 887,\n",
       " 'становится': 888,\n",
       " 'планы': 889,\n",
       " 'выспалась': 890,\n",
       " 'фигня': 891,\n",
       " 'бл': 892,\n",
       " 'любимого': 893,\n",
       " 'трудно': 894,\n",
       " 'срочно': 895,\n",
       " 'моему': 896,\n",
       " 'летом': 897,\n",
       " 'которых': 898,\n",
       " 'нужны': 899,\n",
       " 'слов': 900,\n",
       " 'мамой': 901,\n",
       " 'бабушка': 902,\n",
       " 'писала': 903,\n",
       " 'некоторые': 904,\n",
       " 'говорил': 905,\n",
       " 'первой': 906,\n",
       " 'знаете': 907,\n",
       " 'посмотрел': 908,\n",
       " 'чё': 909,\n",
       " 'куча': 910,\n",
       " 'тепло': 911,\n",
       " 'третий': 912,\n",
       " 'парня': 913,\n",
       " 'зовут': 914,\n",
       " 'здорово': 915,\n",
       " 'дура': 916,\n",
       " 'ахахахах': 917,\n",
       " 'телефоне': 918,\n",
       " 'приехала': 919,\n",
       " 'ем': 920,\n",
       " 'состояние': 921,\n",
       " 'следующий': 922,\n",
       " 'gt': 923,\n",
       " 'больницу': 924,\n",
       " 'думать': 925,\n",
       " 'твою': 926,\n",
       " 'свое': 927,\n",
       " 'teamfollowback': 928,\n",
       " 'сдавать': 929,\n",
       " 'тему': 930,\n",
       " 'ciooptimal': 931,\n",
       " 'редко': 932,\n",
       " 'должно': 933,\n",
       " '2014': 934,\n",
       " 'около': 935,\n",
       " 'твиты': 936,\n",
       " 'ждет': 937,\n",
       " 'повезло': 938,\n",
       " 'кароч': 939,\n",
       " 'телефона': 940,\n",
       " 'сладких': 941,\n",
       " 'неужели': 942,\n",
       " 'новую': 943,\n",
       " 'спала': 944,\n",
       " 'серии': 945,\n",
       " 'друзьями': 946,\n",
       " 'знал': 947,\n",
       " 'напишу': 948,\n",
       " 'лучшие': 949,\n",
       " 'ленте': 950,\n",
       " 'иначе': 951,\n",
       " 'нему': 952,\n",
       " 'новогоднее': 953,\n",
       " 'мире': 954,\n",
       " '40': 955,\n",
       " 'жесть': 956,\n",
       " 'чет': 957,\n",
       " 'играет': 958,\n",
       " 'получил': 959,\n",
       " 'классный': 960,\n",
       " 'жутко': 961,\n",
       " 'любимой': 962,\n",
       " 'пришли': 963,\n",
       " 'должны': 964,\n",
       " 'сделаю': 965,\n",
       " 'добрый': 966,\n",
       " 'хз': 967,\n",
       " 'начинаю': 968,\n",
       " 'збс': 969,\n",
       " 'господи': 970,\n",
       " 'новая': 971,\n",
       " 'ушла': 972,\n",
       " 'фотку': 973,\n",
       " 'случилось': 974,\n",
       " 'проблема': 975,\n",
       " 'разу': 976,\n",
       " 'четверг': 977,\n",
       " 'помоему': 978,\n",
       " 'магазин': 979,\n",
       " 'другие': 980,\n",
       " 'прекрасно': 981,\n",
       " 'зиму': 982,\n",
       " 'детей': 983,\n",
       " 'ходила': 984,\n",
       " 'станет': 985,\n",
       " 'общаться': 986,\n",
       " 'простите': 987,\n",
       " 'чтонибудь': 988,\n",
       " 'вопросы': 989,\n",
       " 'рублей': 990,\n",
       " 'внезапно': 991,\n",
       " 'совершенно': 992,\n",
       " 'парни': 993,\n",
       " 'ааааа': 994,\n",
       " 'сил': 995,\n",
       " 'полностью': 996,\n",
       " 'типо': 997,\n",
       " 'хрень': 998,\n",
       " 'mtvstars': 999,\n",
       " ...}"
      ]
     },
     "execution_count": 40,
     "metadata": {},
     "output_type": "execute_result"
    }
   ],
   "source": [
    "#словарь слово : индекс из tokens_filtered_top\n",
    "vocabulary = {v: k for k, v in dict(enumerate(tokens_filtered_top)).items()}\n",
    "vocabulary"
   ]
  },
  {
   "cell_type": "code",
   "execution_count": 41,
   "metadata": {
    "executionInfo": {
     "elapsed": 3,
     "status": "ok",
     "timestamp": 1670959866398,
     "user": {
      "displayName": "Maxim Gasilin",
      "userId": "15501735730920561422"
     },
     "user_tz": -180
    },
    "id": "yKjetGVgpaoc"
   },
   "outputs": [],
   "source": [
    "#преобразование текста в последовательность\n",
    "def text_to_sequence(text, maxlen):\n",
    "    result = []\n",
    "    tokens = word_tokenize(text.lower())  #токенизация\n",
    "    tokens_filtered = [word for word in tokens if word.isalnum()] #фильтруем (только буквы и цифры)\n",
    "    for word in tokens_filtered:\n",
    "        if word in vocabulary:\n",
    "            result.append(vocabulary[word]) #если слово в топе токенов, то добавляем его индекс в результат\n",
    "\n",
    "    padding = [0] * (maxlen-len(result)) #нули дополняющие до maxlen\n",
    "    return result[-maxlen:] + padding"
   ]
  },
  {
   "cell_type": "code",
   "execution_count": 42,
   "metadata": {
    "colab": {
     "base_uri": "https://localhost:8080/"
    },
    "executionInfo": {
     "elapsed": 4286,
     "status": "ok",
     "timestamp": 1670959872999,
     "user": {
      "displayName": "Maxim Gasilin",
      "userId": "15501735730920561422"
     },
     "user_tz": -180
    },
    "id": "W39Ko_oDpaoc",
    "outputId": "0527f1bb-bc88-4abe-c8c1-2f3e4dc8c2dd"
   },
   "outputs": [
    {
     "data": {
      "text/plain": [
       "((127026, 20), (54441, 20), (22684, 20))"
      ]
     },
     "execution_count": 42,
     "metadata": {},
     "output_type": "execute_result"
    }
   ],
   "source": [
    "x_train = np.asarray([text_to_sequence(text, max_len) for text in df_train[\"text\"]])\n",
    "x_valid = np.asarray([text_to_sequence(text, max_len) for text in df_valid[\"text\"]])\n",
    "x_test = np.asarray([text_to_sequence(text, max_len) for text in data_test[\"text\"]])\n",
    "\n",
    "x_train.shape, x_valid.shape, x_test.shape"
   ]
  },
  {
   "cell_type": "code",
   "execution_count": 43,
   "metadata": {
    "colab": {
     "base_uri": "https://localhost:8080/"
    },
    "executionInfo": {
     "elapsed": 704,
     "status": "ok",
     "timestamp": 1670959875210,
     "user": {
      "displayName": "Maxim Gasilin",
      "userId": "15501735730920561422"
     },
     "user_tz": -180
    },
    "id": "wZUYI7uM8Lph",
    "outputId": "3f4f6f02-5202-479b-8c3d-ff7b66231caa"
   },
   "outputs": [
    {
     "data": {
      "text/plain": [
       "tensor([  24,  400, 1151,    6,    1,   54,   93,  101,  976,    0,  420,  109,\n",
       "          32,  690,    0,    0,    0,    0,    0,    0], dtype=torch.int32)"
      ]
     },
     "execution_count": 43,
     "metadata": {},
     "output_type": "execute_result"
    }
   ],
   "source": [
    "#данные после подготовки к обучению\n",
    "torch.from_numpy(x_train[0])"
   ]
  },
  {
   "cell_type": "markdown",
   "metadata": {
    "id": "BYiQ8C8npaoc"
   },
   "source": [
    "### 2. Построение и обучение модели<a id='section_2'></a>"
   ]
  },
  {
   "cell_type": "code",
   "execution_count": 44,
   "metadata": {
    "executionInfo": {
     "elapsed": 421,
     "status": "ok",
     "timestamp": 1670959878721,
     "user": {
      "displayName": "Maxim Gasilin",
      "userId": "15501735730920561422"
     },
     "user_tz": -180
    },
    "id": "nkAgJM2Upaoc"
   },
   "outputs": [],
   "source": [
    "#Датасет\n",
    "class DataWrapper(Dataset):\n",
    "    def __init__(self, data, target, transform=None):\n",
    "        self.data = torch.from_numpy(data).long() #преобразуем в целочисленный тензор\n",
    "        self.target = torch.from_numpy(target).long() #преобразуем в целочисленный тензор\n",
    "        self.transform = transform\n",
    "        \n",
    "    def __getitem__(self, index):\n",
    "        x = self.data[index]  #индексация данных\n",
    "        y = self.target[index]  #индексация целевой переменной\n",
    "        \n",
    "        if self.transform:\n",
    "            x = self.transform(x)\n",
    "            \n",
    "        return x, y\n",
    "    \n",
    "    def __len__(self):\n",
    "        return len(self.data)"
   ]
  },
  {
   "cell_type": "code",
   "execution_count": 45,
   "metadata": {
    "executionInfo": {
     "elapsed": 766,
     "status": "ok",
     "timestamp": 1670959883361,
     "user": {
      "displayName": "Maxim Gasilin",
      "userId": "15501735730920561422"
     },
     "user_tz": -180
    },
    "id": "8Nel-ttWpaod"
   },
   "outputs": [],
   "source": [
    "#создание представителей классов Dataset и Dataloader\n",
    "train_dataset = DataWrapper(x_train, df_train['class'].values)\n",
    "train_loader = DataLoader(train_dataset, batch_size=batch_size, shuffle=True)\n",
    "\n",
    "valid_dataset = DataWrapper(x_valid, df_valid['class'].values)\n",
    "valid_loader = DataLoader(valid_dataset, batch_size=8, shuffle=True)"
   ]
  },
  {
   "cell_type": "code",
   "execution_count": 46,
   "metadata": {
    "colab": {
     "base_uri": "https://localhost:8080/"
    },
    "executionInfo": {
     "elapsed": 423,
     "status": "ok",
     "timestamp": 1670959885810,
     "user": {
      "displayName": "Maxim Gasilin",
      "userId": "15501735730920561422"
     },
     "user_tz": -180
    },
    "id": "b_znvske8Lpi",
    "outputId": "9317cda2-84ea-4da8-f116-3f57506deee5"
   },
   "outputs": [
    {
     "name": "stdout",
     "output_type": "stream",
     "text": [
      "torch.Size([512, 20]) tensor([226,  17,  39,  60,  23,  99,  36,   0,   0,   0,   0,   0,   0,   0,\n",
      "          0,   0,   0,   0,   0,   0])\n",
      "torch.Size([512]) tensor(1)\n"
     ]
    }
   ],
   "source": [
    "for x, l in train_loader:\n",
    "    print(x.shape, x[0])\n",
    "    print(l.shape, l[0])\n",
    "    break"
   ]
  },
  {
   "cell_type": "code",
   "execution_count": 47,
   "metadata": {
    "executionInfo": {
     "elapsed": 3,
     "status": "ok",
     "timestamp": 1670959889799,
     "user": {
      "displayName": "Maxim Gasilin",
      "userId": "15501735730920561422"
     },
     "user_tz": -180
    },
    "id": "AQejeMC2paod"
   },
   "outputs": [],
   "source": [
    "#сверточная нейронная сеть\n",
    "class Net(nn.Module):\n",
    "    def __init__(self, vocab_size=2000, embedding_dim=128, out_channel=128, num_classes = 1):\n",
    "        super().__init__()\n",
    "        self.embedding = nn.Embedding(vocab_size, embedding_dim)\n",
    "        self.conv_1 = nn.Conv1d(embedding_dim, out_channel, kernel_size=2)\n",
    "        self.conv_2 = nn.Conv1d(embedding_dim, out_channel, kernel_size=3)\n",
    "        self.pool = nn.MaxPool1d(2)\n",
    "        self.relu = nn.ReLU()\n",
    "        self.linear_1 = nn.Linear(out_channel, out_channel // 2)\n",
    "        self.linear_2 = nn.Linear(out_channel // 2, num_classes)\n",
    "        \n",
    "    def forward(self, x):        \n",
    "        output = self.embedding(x) # B, L, E\n",
    "        #                       B  E  L         \n",
    "        output = output.permute(0, 2, 1)\n",
    "        output = self.conv_1(output)\n",
    "        output = self.relu(output)\n",
    "        output = self.pool(output)\n",
    "\n",
    "        output = self.conv_2(output)\n",
    "        output = self.relu(output)\n",
    "        output = self.pool(output)\n",
    "        output = torch.max(output, axis=2).values\n",
    "        output = self.linear_1(output)\n",
    "        output = self.relu(output)\n",
    "        output = self.linear_2(output)\n",
    "        output = torch.sigmoid(output)\n",
    "        return output"
   ]
  },
  {
   "cell_type": "code",
   "execution_count": 48,
   "metadata": {
    "colab": {
     "base_uri": "https://localhost:8080/"
    },
    "executionInfo": {
     "elapsed": 482,
     "status": "ok",
     "timestamp": 1670959892781,
     "user": {
      "displayName": "Maxim Gasilin",
      "userId": "15501735730920561422"
     },
     "user_tz": -180
    },
    "id": "12JQaqqHpaod",
    "outputId": "bdeefbcd-ee9a-498c-9a31-d953dd78e911"
   },
   "outputs": [
    {
     "name": "stdout",
     "output_type": "stream",
     "text": [
      "Net(\n",
      "  (embedding): Embedding(2000, 128)\n",
      "  (conv_1): Conv1d(128, 128, kernel_size=(2,), stride=(1,))\n",
      "  (conv_2): Conv1d(128, 128, kernel_size=(3,), stride=(1,))\n",
      "  (pool): MaxPool1d(kernel_size=2, stride=2, padding=0, dilation=1, ceil_mode=False)\n",
      "  (relu): ReLU()\n",
      "  (linear_1): Linear(in_features=128, out_features=64, bias=True)\n",
      "  (linear_2): Linear(in_features=64, out_features=1, bias=True)\n",
      ")\n"
     ]
    }
   ],
   "source": [
    "#инициализация модели\n",
    "model = Net(vocab_size=max_words)\n",
    "print(model)"
   ]
  },
  {
   "cell_type": "code",
   "execution_count": 49,
   "metadata": {
    "executionInfo": {
     "elapsed": 2,
     "status": "ok",
     "timestamp": 1670959894760,
     "user": {
      "displayName": "Maxim Gasilin",
      "userId": "15501735730920561422"
     },
     "user_tz": -180
    },
    "id": "dhyvOtmVpaod"
   },
   "outputs": [],
   "source": [
    "#компиляция модели\n",
    "optimizer = torch.optim.Adam(model.parameters(), lr=0.001)\n",
    "criterion = nn.BCELoss()"
   ]
  },
  {
   "cell_type": "code",
   "execution_count": 50,
   "metadata": {
    "colab": {
     "base_uri": "https://localhost:8080/"
    },
    "executionInfo": {
     "elapsed": 45998,
     "status": "ok",
     "timestamp": 1670959943005,
     "user": {
      "displayName": "Maxim Gasilin",
      "userId": "15501735730920561422"
     },
     "user_tz": -180
    },
    "id": "66wKg4acpaoe",
    "outputId": "ded2c2fe-b56c-47e6-a250-94c9d9b76688"
   },
   "outputs": [
    {
     "name": "stdout",
     "output_type": "stream",
     "text": [
      "Epoch [1/10]. Step [1/249]. Loss: 0.692. Acc: 0.516. Val loss: 0.743. Val acc: 0.509\n",
      "Epoch [1/10]. Step [151/249]. Loss: 0.644. Acc: 0.615. Val loss: 0.855. Val acc: 0.656\n",
      "Epoch [2/10]. Step [1/249]. Loss: 0.558. Acc: 0.699. Val loss: 0.607. Val acc: 0.675\n",
      "Epoch [2/10]. Step [151/249]. Loss: 0.589. Acc: 0.700. Val loss: 0.644. Val acc: 0.690\n",
      "Epoch [3/10]. Step [1/249]. Loss: 0.519. Acc: 0.740. Val loss: 0.403. Val acc: 0.693\n",
      "Epoch [3/10]. Step [151/249]. Loss: 0.510. Acc: 0.728. Val loss: 2.219. Val acc: 0.697\n",
      "Epoch [4/10]. Step [1/249]. Loss: 0.454. Acc: 0.785. Val loss: 0.300. Val acc: 0.693\n",
      "Epoch [4/10]. Step [151/249]. Loss: 0.501. Acc: 0.746. Val loss: 1.563. Val acc: 0.698\n",
      "Epoch [5/10]. Step [1/249]. Loss: 0.458. Acc: 0.793. Val loss: 0.375. Val acc: 0.703\n",
      "Epoch [5/10]. Step [151/249]. Loss: 0.491. Acc: 0.763. Val loss: 4.006. Val acc: 0.698\n",
      "Epoch [6/10]. Step [1/249]. Loss: 0.466. Acc: 0.773. Val loss: 0.221. Val acc: 0.676\n",
      "Epoch [6/10]. Step [151/249]. Loss: 0.474. Acc: 0.776. Val loss: 0.141. Val acc: 0.694\n",
      "Epoch [7/10]. Step [1/249]. Loss: 0.457. Acc: 0.775. Val loss: 0.697. Val acc: 0.701\n",
      "Epoch [7/10]. Step [151/249]. Loss: 0.448. Acc: 0.800. Val loss: 0.091. Val acc: 0.689\n",
      "Epoch [8/10]. Step [1/249]. Loss: 0.362. Acc: 0.838. Val loss: 0.442. Val acc: 0.695\n",
      "Epoch [8/10]. Step [151/249]. Loss: 0.374. Acc: 0.816. Val loss: 0.030. Val acc: 0.690\n",
      "Epoch [9/10]. Step [1/249]. Loss: 0.345. Acc: 0.859. Val loss: 0.637. Val acc: 0.686\n",
      "Epoch [9/10]. Step [151/249]. Loss: 0.352. Acc: 0.828. Val loss: 0.042. Val acc: 0.688\n",
      "Epoch [10/10]. Step [1/249]. Loss: 0.315. Acc: 0.875. Val loss: 0.622. Val acc: 0.679\n",
      "Epoch [10/10]. Step [151/249]. Loss: 0.396. Acc: 0.849. Val loss: 0.486. Val acc: 0.682\n",
      "Training is finished!\n"
     ]
    }
   ],
   "source": [
    "#обучение модели\n",
    "model.train()\n",
    "th = 0.5\n",
    "\n",
    "train_loss_history = []\n",
    "valid_loss_history = []\n",
    "\n",
    "\n",
    "for epoch in range(epochs):  \n",
    "    running_items, running_right = 0.0, 0.0\n",
    "    for i, data in enumerate(train_loader, 0):\n",
    "        inputs, labels = data[0], data[1]\n",
    "        \n",
    "        # обучение\n",
    "        optimizer.zero_grad()\n",
    "        outputs = model(inputs)\n",
    "        loss = criterion(outputs, labels.float().view(-1, 1))\n",
    "        loss.backward()\n",
    "        optimizer.step()\n",
    "\n",
    "        # подсчет ошибки на обучении\n",
    "        loss = loss.item()\n",
    "        running_items += len(labels)\n",
    "       \n",
    "        # подсчет метрики на обучении\n",
    "        pred_labels = torch.squeeze((outputs > th).int())\n",
    "        running_right += (labels == pred_labels).sum()\n",
    "        \n",
    "        # выводим статистику о процессе обучения\n",
    "        if i % 150 == 0:    # печатаем каждые 150 batches\n",
    "            model.eval()\n",
    "            \n",
    "            print(f'Epoch [{epoch + 1}/{epochs}]. ' \\\n",
    "                  f'Step [{i + 1}/{len(train_loader)}]. ' \\\n",
    "                  f'Loss: {loss:.3f}. ' \\\n",
    "                  f'Acc: {running_right / running_items:.3f}', end='. ')\n",
    "            running_loss, running_items, running_right = 0.0, 0.0, 0.0\n",
    "            train_loss_history.append(loss)\n",
    "\n",
    "            # выводим статистику на тестовых данных\n",
    "            test_running_right, test_running_total, test_loss = 0.0, 0.0, 0.0\n",
    "            for j, data in enumerate(valid_loader):\n",
    "                test_labels = data[1]\n",
    "                test_outputs = model(data[0])\n",
    "                \n",
    "                # подсчет ошибки на тесте\n",
    "                test_loss = criterion(test_outputs, test_labels.float().view(-1, 1))\n",
    "                # подсчет метрики на тесте\n",
    "                test_running_total += len(data[1])\n",
    "                pred_test_labels = torch.squeeze((test_outputs > th).int())\n",
    "                test_running_right += (test_labels == pred_test_labels).sum()\n",
    "            \n",
    "            valid_loss_history.append(test_loss.item())\n",
    "            print(f'Val loss: {test_loss:.3f}. Val acc: {test_running_right / test_running_total:.3f}')\n",
    "        \n",
    "        model.train()\n",
    "        \n",
    "print('Training is finished!')"
   ]
  },
  {
   "cell_type": "code",
   "execution_count": 51,
   "metadata": {
    "colab": {
     "base_uri": "https://localhost:8080/",
     "height": 312
    },
    "executionInfo": {
     "elapsed": 566,
     "status": "ok",
     "timestamp": 1670959948613,
     "user": {
      "displayName": "Maxim Gasilin",
      "userId": "15501735730920561422"
     },
     "user_tz": -180
    },
    "id": "T8YCRegEpaoe",
    "outputId": "afe49f98-33c4-4551-e34d-acbaa0223494"
   },
   "outputs": [
    {
     "data": {
      "text/plain": [
       "<matplotlib.legend.Legend at 0x2ded99db520>"
      ]
     },
     "execution_count": 51,
     "metadata": {},
     "output_type": "execute_result"
    },
    {
     "data": {
      "image/png": "[encoded data removed]",
      "text/plain": [
       "<Figure size 640x480 with 1 Axes>"
      ]
     },
     "metadata": {},
     "output_type": "display_data"
    }
   ],
   "source": [
    "#визуализации функции потерь\n",
    "plt.title('Loss history')\n",
    "plt.grid(True)\n",
    "plt.ylabel('Loss')\n",
    "plt.xlabel('Step')\n",
    "plt.plot(train_loss_history, label='train')\n",
    "plt.plot(valid_loss_history, label='valid')\n",
    "plt.legend()"
   ]
  },
  {
   "cell_type": "markdown",
   "metadata": {
    "id": "i9dwJ0bKpaoe"
   },
   "source": [
    "### 3. Выводы<a id='section_3'></a>"
   ]
  },
  {
   "cell_type": "code",
   "execution_count": 52,
   "metadata": {
    "colab": {
     "base_uri": "https://localhost:8080/"
    },
    "executionInfo": {
     "elapsed": 1359,
     "status": "ok",
     "timestamp": 1670959954349,
     "user": {
      "displayName": "Maxim Gasilin",
      "userId": "15501735730920561422"
     },
     "user_tz": -180
    },
    "id": "b9H8bvAAbX9-",
    "outputId": "618d0b7e-0258-49d2-f041-37b915e96af0"
   },
   "outputs": [
    {
     "data": {
      "text/plain": [
       "(tensor([[0.2012],\n",
       "         [0.9452],\n",
       "         [0.0617],\n",
       "         ...,\n",
       "         [0.7585],\n",
       "         [0.0355],\n",
       "         [0.3249]], grad_fn=<SigmoidBackward0>),\n",
       " array([[0],\n",
       "        [1],\n",
       "        [0],\n",
       "        ...,\n",
       "        [1],\n",
       "        [0],\n",
       "        [0]]))"
      ]
     },
     "execution_count": 52,
     "metadata": {},
     "output_type": "execute_result"
    }
   ],
   "source": [
    "#тестирование модели\n",
    "input = torch.from_numpy(x_test).long()\n",
    "test_outputs = model(input)\n",
    "outputs_label = np.where(test_outputs > 0.5, 1, 0)\n",
    "test_outputs, outputs_label"
   ]
  },
  {
   "cell_type": "markdown",
   "metadata": {
    "id": "W496vwQHT_B4"
   },
   "source": [
    "1. Метрика на валидации растет немонотонно. Поэтому увеличение числа эпох не приводит к улучшению метрики на валидации.\n",
    "\n",
    "2. Снижение скорости обучения способствует улучшению метрики.\n",
    "\n",
    "3. Добавление Dropout не приводит к улучшению метрики."
   ]
  }
 ],
 "metadata": {
  "accelerator": "GPU",
  "colab": {
   "provenance": []
  },
  "kernelspec": {
   "display_name": "Python 3 (ipykernel)",
   "language": "python",
   "name": "python3"
  },
  "language_info": {
   "codemirror_mode": {
    "name": "ipython",
    "version": 3
   },
   "file_extension": ".py",
   "mimetype": "text/x-python",
   "name": "python",
   "nbconvert_exporter": "python",
   "pygments_lexer": "ipython3",
   "version": "3.9.13"
  }
 },
 "nbformat": 4,
 "nbformat_minor": 1
}
