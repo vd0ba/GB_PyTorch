{
  "nbformat": 4,
  "nbformat_minor": 0,
  "metadata": {
    "colab": {
      "provenance": []
    },
    "kernelspec": {
      "name": "python3",
      "display_name": "Python 3"
    },
    "language_info": {
      "name": "python"
    }
  },
  "cells": [
    {
      "cell_type": "markdown",
      "source": [
        "Домашнее задание - Урок 1. Основные понятия и структуры PyTorch\n",
        "1. Создайте случайный FloatTensor размера 3x4x5\n",
        "2. Выведите его форму (shape)\n",
        "3. Приведите его к форме 6х10\n",
        "4. Создайте случайный IntTensor размера 10\n",
        "5. Умножьте созданный FloatTensor на созданный IntTensor поэлементно\n",
        "6. Умножьте тензор матрично на себя, чтобы результат был размерности 6x6 7. \n",
        "7. Подсказка: .dot может не подойти\n",
        "8. Посчитайте производную функции y = x**3 + z - 75t в точке (1, 0.5, 2)\n",
        "9. Создайте единичный тензор размера 5x6\n",
        "10. Переведите его в формат numpy"
      ],
      "metadata": {
        "id": "l8mSM0nONrUF"
      }
    },
    {
      "cell_type": "code",
      "execution_count": null,
      "metadata": {
        "id": "kMwf8uq7LUMs"
      },
      "outputs": [],
      "source": [
        "import torch"
      ]
    },
    {
      "cell_type": "code",
      "source": [
        "#  1. Создайте случайный FloatTensor размера 3x4x5\n",
        "\n",
        "a = torch.randn(3, 4, 5)\n",
        "a"
      ],
      "metadata": {
        "colab": {
          "base_uri": "https://localhost:8080/"
        },
        "id": "_wmgElSvMBBr",
        "outputId": "bfe96302-23f4-4b32-e03a-8e7aaff330b6"
      },
      "execution_count": null,
      "outputs": [
        {
          "output_type": "execute_result",
          "data": {
            "text/plain": [
              "tensor([[[ 0.0320,  0.7657, -0.5646, -0.0457, -0.0306],\n",
              "         [-2.2976, -0.0663, -1.0038, -0.7269,  0.4516],\n",
              "         [-1.1910, -0.0668,  0.4771, -1.7447,  0.8762],\n",
              "         [ 1.0128, -0.8695, -0.9814,  0.9360,  1.3334]],\n",
              "\n",
              "        [[-0.7126,  0.9151,  0.3364,  0.9942, -0.1030],\n",
              "         [-0.0192, -0.0288,  0.4773,  0.4666,  0.1777],\n",
              "         [-0.5070,  2.3725, -0.7155, -1.1210,  0.9886],\n",
              "         [ 1.0594,  2.9766, -0.0824, -0.9024,  2.2033]],\n",
              "\n",
              "        [[ 0.6034,  0.8609, -0.2657,  1.0732, -1.0449],\n",
              "         [ 0.3290,  1.3731,  0.5070,  0.2875, -1.2769],\n",
              "         [-0.8184, -0.5324, -0.9111,  0.3628,  0.0801],\n",
              "         [-0.8082, -0.2755,  1.5886, -1.2291, -2.8712]]])"
            ]
          },
          "metadata": {},
          "execution_count": 13
        }
      ]
    },
    {
      "cell_type": "code",
      "source": [
        "# 2. Выведите его форму (shape)\n",
        "print('Тензор a: ', a.type(), a.shape)"
      ],
      "metadata": {
        "colab": {
          "base_uri": "https://localhost:8080/"
        },
        "id": "leEdVEXtMA5v",
        "outputId": "8ae01937-0e68-4725-fe7b-5d31a68a40b6"
      },
      "execution_count": null,
      "outputs": [
        {
          "output_type": "stream",
          "name": "stdout",
          "text": [
            "Тензор a:  torch.FloatTensor torch.Size([3, 4, 5])\n"
          ]
        }
      ]
    },
    {
      "cell_type": "code",
      "source": [
        "# 3. Приведите его к форме 6 X 10\n",
        "a = torch.reshape(a, [6, 10])\n",
        "a, a.shape"
      ],
      "metadata": {
        "colab": {
          "base_uri": "https://localhost:8080/"
        },
        "id": "4w8zG5CyMAw8",
        "outputId": "643dca89-1477-4c91-848d-c84f35b18ba5"
      },
      "execution_count": null,
      "outputs": [
        {
          "output_type": "execute_result",
          "data": {
            "text/plain": [
              "(tensor([[ 0.0320,  0.7657, -0.5646, -0.0457, -0.0306, -2.2976, -0.0663, -1.0038,\n",
              "          -0.7269,  0.4516],\n",
              "         [-1.1910, -0.0668,  0.4771, -1.7447,  0.8762,  1.0128, -0.8695, -0.9814,\n",
              "           0.9360,  1.3334],\n",
              "         [-0.7126,  0.9151,  0.3364,  0.9942, -0.1030, -0.0192, -0.0288,  0.4773,\n",
              "           0.4666,  0.1777],\n",
              "         [-0.5070,  2.3725, -0.7155, -1.1210,  0.9886,  1.0594,  2.9766, -0.0824,\n",
              "          -0.9024,  2.2033],\n",
              "         [ 0.6034,  0.8609, -0.2657,  1.0732, -1.0449,  0.3290,  1.3731,  0.5070,\n",
              "           0.2875, -1.2769],\n",
              "         [-0.8184, -0.5324, -0.9111,  0.3628,  0.0801, -0.8082, -0.2755,  1.5886,\n",
              "          -1.2291, -2.8712]]),\n",
              " torch.Size([6, 10]))"
            ]
          },
          "metadata": {},
          "execution_count": 15
        }
      ]
    },
    {
      "cell_type": "code",
      "source": [
        "#  4. Создайте случайный IntTensor размера 10\n",
        "\n",
        "b = torch.IntTensor(10)\n",
        "b.type(), b"
      ],
      "metadata": {
        "colab": {
          "base_uri": "https://localhost:8080/"
        },
        "id": "YSWSMxKKQ6sK",
        "outputId": "8ab35ab1-9cff-4b64-a43d-713b230151af"
      },
      "execution_count": null,
      "outputs": [
        {
          "output_type": "execute_result",
          "data": {
            "text/plain": [
              "('torch.IntTensor',\n",
              " tensor([        0,         1,         1,         0,         0,         0,\n",
              "                49,         0, 128959136,         0], dtype=torch.int32))"
            ]
          },
          "metadata": {},
          "execution_count": 16
        }
      ]
    },
    {
      "cell_type": "code",
      "source": [
        "# 5. Умножьте созданный FloatTensor на созданный IntTensor поэлементно\n",
        "a * b"
      ],
      "metadata": {
        "colab": {
          "base_uri": "https://localhost:8080/"
        },
        "id": "8557DM25Q6p8",
        "outputId": "03732328-398e-407d-e550-968510eec733"
      },
      "execution_count": null,
      "outputs": [
        {
          "output_type": "execute_result",
          "data": {
            "text/plain": [
              "tensor([[ 0.0000e+00,  7.6567e-01, -5.6459e-01, -0.0000e+00, -0.0000e+00,\n",
              "         -0.0000e+00, -3.2485e+00, -0.0000e+00, -9.3738e+07,  0.0000e+00],\n",
              "        [-0.0000e+00, -6.6817e-02,  4.7707e-01, -0.0000e+00,  0.0000e+00,\n",
              "          0.0000e+00, -4.2605e+01, -0.0000e+00,  1.2071e+08,  0.0000e+00],\n",
              "        [-0.0000e+00,  9.1513e-01,  3.3637e-01,  0.0000e+00, -0.0000e+00,\n",
              "         -0.0000e+00, -1.4096e+00,  0.0000e+00,  6.0175e+07,  0.0000e+00],\n",
              "        [-0.0000e+00,  2.3725e+00, -7.1547e-01, -0.0000e+00,  0.0000e+00,\n",
              "          0.0000e+00,  1.4585e+02, -0.0000e+00, -1.1638e+08,  0.0000e+00],\n",
              "        [ 0.0000e+00,  8.6089e-01, -2.6571e-01,  0.0000e+00, -0.0000e+00,\n",
              "          0.0000e+00,  6.7280e+01,  0.0000e+00,  3.7072e+07, -0.0000e+00],\n",
              "        [-0.0000e+00, -5.3240e-01, -9.1114e-01,  0.0000e+00,  0.0000e+00,\n",
              "         -0.0000e+00, -1.3502e+01,  0.0000e+00, -1.5851e+08, -0.0000e+00]])"
            ]
          },
          "metadata": {},
          "execution_count": 17
        }
      ]
    },
    {
      "cell_type": "code",
      "source": [
        "# 6. Умножьте тензор матрично на себя, чтобы результат был размерности 6x6\n",
        "a @ a.T"
      ],
      "metadata": {
        "colab": {
          "base_uri": "https://localhost:8080/"
        },
        "id": "O-IcNAWlQ6nW",
        "outputId": "f398ab0d-7ab9-4627-f349-fc92cd447381"
      },
      "execution_count": null,
      "outputs": [
        {
          "output_type": "execute_result",
          "data": {
            "text/plain": [
              "tensor([[ 7.9322, -1.6683, -0.2463,  1.3273, -1.3299, -0.0610],\n",
              "        [-1.6683, 10.8613, -0.6658,  3.5847, -6.4825, -7.1040],\n",
              "        [-0.2463, -0.6658,  2.9357,  0.9008,  1.5463, -0.1602],\n",
              "        [ 1.3273,  3.5847,  0.9008, 24.2900,  1.0119, -7.5481],\n",
              "        [-1.3299, -6.4825,  1.5463,  1.0119,  7.3829,  3.0696],\n",
              "        [-0.0610, -7.1040, -0.1602, -7.5481,  3.0696, 14.9286]])"
            ]
          },
          "metadata": {},
          "execution_count": 19
        }
      ]
    },
    {
      "cell_type": "code",
      "source": [
        "# 7. Посчитайте производную функции y = x**3 + z - 75*t в точке (1, 0.5, 2)\n",
        "\n",
        "x = torch.tensor(1.0, requires_grad = True) \n",
        "z = torch.tensor(0.5, requires_grad = True) \n",
        "t = torch.tensor(2.0, requires_grad = True) \n",
        "\n",
        "y = x**3 + z - 75*t\n",
        "print('Значение функции y в точке:', y.item())\n",
        "\n",
        "y.backward() #считаем производную по всем переменным\n",
        "\n",
        "print('Производная функции y по x в точке: ', x.grad.item())\n",
        "print('Производная функции y по z в точке: ', z.grad.item())\n",
        "print('Производная функции y по t в точке: ', t.grad.item()) #частные производные"
      ],
      "metadata": {
        "colab": {
          "base_uri": "https://localhost:8080/"
        },
        "id": "u-a0NxF-Q6k9",
        "outputId": "a3d5ca96-9f4c-4943-db96-6a8b4b600967"
      },
      "execution_count": null,
      "outputs": [
        {
          "output_type": "stream",
          "name": "stdout",
          "text": [
            "Значение функции y в точке: -148.5\n",
            "Производная функции y по x в точке:  3.0\n",
            "Производная функции y по z в точке:  1.0\n",
            "Производная функции y по t в точке:  -75.0\n"
          ]
        }
      ]
    },
    {
      "cell_type": "code",
      "source": [
        "# 8. Создайте единичный тензор размера 5x6\n",
        "e = torch.ones([5, 6])\n",
        "e, e.shape"
      ],
      "metadata": {
        "id": "TnW0I5rdUaHW",
        "outputId": "3c4d28c5-e7f5-4915-96a2-a78065fd6131",
        "colab": {
          "base_uri": "https://localhost:8080/"
        }
      },
      "execution_count": null,
      "outputs": [
        {
          "output_type": "execute_result",
          "data": {
            "text/plain": [
              "(tensor([[1., 1., 1., 1., 1., 1.],\n",
              "         [1., 1., 1., 1., 1., 1.],\n",
              "         [1., 1., 1., 1., 1., 1.],\n",
              "         [1., 1., 1., 1., 1., 1.],\n",
              "         [1., 1., 1., 1., 1., 1.]]),\n",
              " torch.Size([5, 6]))"
            ]
          },
          "metadata": {},
          "execution_count": 21
        }
      ]
    },
    {
      "cell_type": "code",
      "source": [
        "# 9. Переведите его в формат numpy\n",
        "e = e.numpy()\n",
        "e"
      ],
      "metadata": {
        "id": "oPVh4e12UbxX",
        "outputId": "7746416b-89f0-46ac-f48d-3490bd36c924",
        "colab": {
          "base_uri": "https://localhost:8080/"
        }
      },
      "execution_count": null,
      "outputs": [
        {
          "output_type": "execute_result",
          "data": {
            "text/plain": [
              "array([[1., 1., 1., 1., 1., 1.],\n",
              "       [1., 1., 1., 1., 1., 1.],\n",
              "       [1., 1., 1., 1., 1., 1.],\n",
              "       [1., 1., 1., 1., 1., 1.],\n",
              "       [1., 1., 1., 1., 1., 1.]], dtype=float32)"
            ]
          },
          "metadata": {},
          "execution_count": 22
        }
      ]
    }
  ]
}